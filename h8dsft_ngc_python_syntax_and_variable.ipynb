{
 "cells": [
  {
   "cell_type": "code",
   "execution_count": 2,
   "metadata": {},
   "outputs": [
    {
     "data": {
      "text/plain": [
       "63"
      ]
     },
     "execution_count": 2,
     "metadata": {},
     "output_type": "execute_result"
    }
   ],
   "source": [
    "#task 1\n",
    "customer_id = ['B818', 'A461', 'A092', 'A082', 'B341', 'A005', 'A092', \n",
    "               'A461','B219', 'B904', 'A901', 'A083', 'B904', 'A092', \n",
    "               'B341', 'B821','B341', 'B821', 'B904', 'B818', 'A901', \n",
    "               'A083', 'B818', 'A082','B219', 'B219', 'A083', 'A901', \n",
    "               'A082', 'B341', 'B341', 'A083','A082', 'B219', 'B439', \n",
    "               'A461', 'A005', 'A901', 'B341', 'A082','A083', 'A461', \n",
    "               'A083', 'A901', 'A461', 'A083', 'A082', 'A083','B341', \n",
    "               'A901', 'A082', 'A461', 'B219', 'A083', 'B818', 'B821',\n",
    "               'A092', 'B341', 'A461', 'A092', 'A083', 'B821', 'A092']\n",
    "\n",
    "len (customer_id)"
   ]
  },
  {
   "cell_type": "code",
   "execution_count": 3,
   "metadata": {},
   "outputs": [
    {
     "name": "stdout",
     "output_type": "stream",
     "text": [
      "16\n",
      "[36, 49, 64, 81]\n",
      "[100, 81, 64, 49, 36, 25, 16, 9, 4, 1]\n"
     ]
    }
   ],
   "source": [
    "#task 2\n",
    "Data = [1, 4, 9, 16, 25, 36, 49,  64, 81, 100]\n",
    "\n",
    "print (Data[3])\n",
    "print (Data[5:9])\n",
    "print (Data[::-1])"
   ]
  },
  {
   "cell_type": "code",
   "execution_count": 6,
   "metadata": {},
   "outputs": [
    {
     "name": "stdout",
     "output_type": "stream",
     "text": [
      "['Nanggroe Aceh Darussalam', 'Sumatera Selatan', 'Kalimantan Barat', 'Jawa Timur', 'Sulawesi Selatan', 'Maluku']\n",
      "{'Nanggroe Aceh Darussalam': 'Aceh', 'Sumatera Selatan': 'Palembang', 'Kalimantan Barat': 'Pontianak', 'Jawa Timur': 'Surabaya', 'Sulawesi Selatan': 'Makassar', 'Maluku': 'Ambon'}\n"
     ]
    }
   ],
   "source": [
    "#task 3\n",
    "provinsi = {\n",
    "    'Nanggroe Aceh Darussalam': 'Aceh',\n",
    "    'Sumatera Selatan': 'Palembang',\n",
    "    'Kalimantan Barat': 'Pontianak',\n",
    "    'Jawa Timur': 'Madiun',\n",
    "    'Sulawesi Selatan': 'Makassar',\n",
    "    'Maluku': 'Ambon'\n",
    "    }\n",
    "\n",
    "keysList = list(provinsi.keys())\n",
    "print(keysList)\n",
    "\n",
    "provinsi = {\n",
    "    'Nanggroe Aceh Darussalam': 'Aceh',\n",
    "    'Sumatera Selatan': 'Palembang',\n",
    "    'Kalimantan Barat': 'Pontianak',\n",
    "    'Jawa Timur': 'Madiun',\n",
    "    'Sulawesi Selatan': 'Makassar',\n",
    "    'Maluku': 'Ambon'\n",
    "    }\n",
    "\n",
    "provinsi['Jawa Timur'] = 'Surabaya'\n",
    "\n",
    "print (provinsi)"
   ]
  }
 ],
 "metadata": {
  "kernelspec": {
   "display_name": "base",
   "language": "python",
   "name": "python3"
  },
  "language_info": {
   "codemirror_mode": {
    "name": "ipython",
    "version": 3
   },
   "file_extension": ".py",
   "mimetype": "text/x-python",
   "name": "python",
   "nbconvert_exporter": "python",
   "pygments_lexer": "ipython3",
   "version": "3.12.4"
  }
 },
 "nbformat": 4,
 "nbformat_minor": 2
}
