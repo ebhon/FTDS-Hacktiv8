{
 "cells": [
  {
   "cell_type": "markdown",
   "metadata": {},
   "source": [
    "1. Buatlah fungsi untuk menghitung jumlah kalori terbakar berdasarkan jenis kegiatan dan durasi dalam menit, dengan ketentuan di bawah:\n",
    "Kegiatan\tKalori Terbakar per Menit\n",
    "Berlari\t10\n",
    "Bersepeda\t8\n",
    "Berenang\t12\n",
    "contoh:\n",
    "\n",
    ">>> input: calories_burned(duration=60, exercise='berenang')\n",
    ">>> output: 720\n",
    "\n",
    ">>> input: calories_burned(duration=15, exercise='berlari')\n",
    ">>> output: 150\n",
    "\n",
    ">>> input:calories_burned(duration=20, exercise='bersepeda')\n",
    ">>> output: 160"
   ]
  },
  {
   "cell_type": "code",
   "execution_count": 6,
   "metadata": {},
   "outputs": [
    {
     "name": "stdout",
     "output_type": "stream",
     "text": [
      "Harus pilih angka 1 / 2 / 3\n",
      "Harus pilih angka 1 / 2 / 3\n",
      "durasi latihan :  6  menit\n",
      "jenis latihan :  2\n"
     ]
    },
    {
     "ename": "NameError",
     "evalue": "name 'calories_burned' is not defined",
     "output_type": "error",
     "traceback": [
      "\u001b[1;31m---------------------------------------------------------------------------\u001b[0m",
      "\u001b[1;31mNameError\u001b[0m                                 Traceback (most recent call last)",
      "Cell \u001b[1;32mIn[6], line 23\u001b[0m\n\u001b[0;32m     21\u001b[0m \u001b[38;5;28mprint\u001b[39m (\u001b[38;5;124m\"\u001b[39m\u001b[38;5;124mdurasi latihan : \u001b[39m\u001b[38;5;124m\"\u001b[39m, duration, \u001b[38;5;124m\"\u001b[39m\u001b[38;5;124m menit\u001b[39m\u001b[38;5;124m\"\u001b[39m)\n\u001b[0;32m     22\u001b[0m \u001b[38;5;28mprint\u001b[39m (\u001b[38;5;124m\"\u001b[39m\u001b[38;5;124mjenis latihan : \u001b[39m\u001b[38;5;124m\"\u001b[39m, excercise)\n\u001b[1;32m---> 23\u001b[0m \u001b[38;5;28mprint\u001b[39m (\u001b[38;5;124m\"\u001b[39m\u001b[38;5;124mjumlah kalori terbakar : \u001b[39m\u001b[38;5;124m\"\u001b[39m, calories_burned, \u001b[38;5;124m\"\u001b[39m\u001b[38;5;124m Kalori\u001b[39m\u001b[38;5;124m\"\u001b[39m)\n",
      "\u001b[1;31mNameError\u001b[0m: name 'calories_burned' is not defined"
     ]
    }
   ],
   "source": [
    "#duration = int(input(\"Excercise Duration : \"))\n",
    "berenang = 12\n",
    "berlari = 10\n",
    "bersepeda = 8\n",
    "\n",
    "\n",
    "def latihan(duration):\n",
    "        if excercise == 1:\n",
    "                calories_burned = duration * berenang\n",
    "        elif excercise == 2:\n",
    "                calories_burned = duration * berlari\n",
    "        else:   \n",
    "                calories_burned = duration * bersepeda\n",
    "        return calories_burned\n",
    "\n",
    "duration = int(input(\"Masukkan durasi :\"))\n",
    "excercise=int(input(\"Jenis Excercise : Ketik 1 untuk berenang, 2 untuk berlari, 3 untuk bersepeda\"))    \n",
    "while excercise > 3:\n",
    "        excercise=int(input(\"Jenis Excercise : Ketik 1 untuk berenang, 2 untuk berlari, 3 untuk bersepeda\")) \n",
    "        print(\"Harus pilih angka 1 / 2 / 3\")\n",
    "else:\n",
    "        latihan(duration)\n",
    "\n",
    "\n",
    "print (\"durasi latihan : \", duration, \" menit\")\n",
    "print (\"jenis latihan : \", excercise)\n",
    "print (\"jumlah kalori terbakar : \", calories_burned, \" Kalori\")\n",
    "\n"
   ]
  },
  {
   "cell_type": "markdown",
   "metadata": {},
   "source": [
    "2. Buat function untuk menghitung total kalori terbakar dari beberapa sesi latihan, manfaatkan fungsi yang telah dibuat sebelumnya di dalam function ini.\n",
    "Notes:\n",
    "\n",
    "Dalam kasus ini diasumsikan setiap sesi latihan memiliki durasi yang sama (each_session_duration).\n",
    "Function yang dibuat memiliki input argumen berupa: n-length jenis latihan yang dilakukan di setiap sesinya dan each_session_duration\n",
    "Manfaatkan *args variable-length input untuk memasukkan jenis latihan.\n",
    "Manfaatkan function yang telah dibuat sebelumnya untuk mengitung kalori terbakar di setiap sesi\n",
    "Contoh:\n",
    "\n",
    ">>> input: total_session_burned_cal('berenang', 'bersepeda', each_session_duration=10)\n",
    ">>> output: 200\n",
    "\n",
    "penjelasan:\n",
    "kegiatan berenang dilakukan 10 menit dan kegiatan bersepeda dilakukan 10 menit dapat membakar total 200 kalori\n",
    "\n",
    ">>> input: total_session_burned_cal('berenang', 'berlari', 'bersepeda', each_session_duration=5)\n",
    ">>> output: 150\n",
    "\n",
    "penjelasan:\n",
    "kegiatan berenang, berlari dan bersepeda yang masing-masing dilakukan 5 menit dapat membakar 150 kalori."
   ]
  },
  {
   "cell_type": "code",
   "execution_count": null,
   "metadata": {},
   "outputs": [],
   "source": []
  },
  {
   "cell_type": "markdown",
   "metadata": {},
   "source": [
    "3. Lakukan Unit Testing pada kedua function yang telah dibuat.\n",
    "Notes:\n",
    "\n",
    "Pengujian Unit testing dapat dilakukan pada cell .ipynb dengan cara:\n",
    "\n",
    "Cukup buat cell baru dan tulis code kerangka unit test di cell tersebut dan jalankan langsung di cell tanpa menggunakan if name()=='main'.\n",
    "\n",
    "Sebagai pengganti idiom ini:\n",
    "\n",
    "`if __name__=='__main__'`:\n",
    " unittest.main()\n",
    "dapat menggunakan:\n",
    "\n",
    "unittest.main(argv=[''], exit=False)"
   ]
  },
  {
   "cell_type": "code",
   "execution_count": null,
   "metadata": {},
   "outputs": [],
   "source": []
  }
 ],
 "metadata": {
  "kernelspec": {
   "display_name": "base",
   "language": "python",
   "name": "python3"
  },
  "language_info": {
   "codemirror_mode": {
    "name": "ipython",
    "version": 3
   },
   "file_extension": ".py",
   "mimetype": "text/x-python",
   "name": "python",
   "nbconvert_exporter": "python",
   "pygments_lexer": "ipython3",
   "version": "3.12.4"
  }
 },
 "nbformat": 4,
 "nbformat_minor": 2
}
