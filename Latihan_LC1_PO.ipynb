{
 "cells": [
  {
   "cell_type": "markdown",
   "metadata": {},
   "source": [
    "1. Buatlah fungsi untuk menghitung jumlah kalori terbakar berdasarkan jenis kegiatan dan durasi dalam menit, dengan ketentuan di bawah:\n",
    "Kegiatan\tKalori Terbakar per Menit\n",
    "Berlari\t10\n",
    "Bersepeda\t8\n",
    "Berenang\t12\n",
    "contoh:\n",
    "\n",
    ">>> input: calories_burned(duration=60, exercise='berenang')\n",
    ">>> output: 720\n",
    "\n",
    ">>> input: calories_burned(duration=15, exercise='berlari')\n",
    ">>> output: 150\n",
    "\n",
    ">>> input:calories_burned(duration=20, exercise='bersepeda')\n",
    ">>> output: 160"
   ]
  },
  {
   "cell_type": "code",
   "execution_count": 2,
   "metadata": {},
   "outputs": [
    {
     "data": {
      "text/plain": [
       "120"
      ]
     },
     "execution_count": 2,
     "metadata": {},
     "output_type": "execute_result"
    }
   ],
   "source": [
    "#duration = int(input(\"Excercise Duration : \"))\n",
    "       \n",
    "excercise= {\n",
    "        'berenang':12,\n",
    "        'berlari':10,\n",
    "        'bersepeda':8\n",
    "        }\n",
    "#print (excercise[\"berenang\"])\n",
    "\n",
    "calories_burned = 0\n",
    "#fungsi untuk menghitung jumlah kalori terbakar berdasarkan durasi dan jenis excercise [dict]\n",
    "def latihan(duration, excercise):\n",
    "        calories_burned = (duration * excercise)\n",
    "        return calories_burned\n",
    "\n",
    "#duration = int(input(\"Masukkan durasi :\"))\n",
    "duration = int(input(\"Masukkan durasi :\"))\n",
    "#validasi input jenis latihannya\n",
    "valid = False\n",
    "while not valid:\n",
    "    inLatihan = input (\"masukkan jenis latihan : \")\n",
    "    if inLatihan.lower() in excercise:\n",
    "        valid = True\n",
    "    else:\n",
    "        print(\"masukkan nilai yang benar : berenang / berlari / bersepeda\")\n",
    "latihan(duration, excercise[inLatihan])\n",
    "#print (duration)\n",
    "#print (excercise[inLatihan])\n",
    "#print (duration * excercise[inLatihan])\n",
    "#print (calories_burned)\n",
    "\n",
    "\n",
    "\n"
   ]
  },
  {
   "cell_type": "code",
   "execution_count": null,
   "metadata": {},
   "outputs": [],
   "source": [
    "'''\n",
    "berenang = 12\n",
    "berlari = 10\n",
    "bersepeda = 8\n",
    "\n",
    "def latihan(duration, excercise):\n",
    "        if excercise == 1:\n",
    "                calories_burned = duration * berenang\n",
    "        elif excercise == 2:\n",
    "                calories_burned = duration * berlari\n",
    "        else:   \n",
    "                calories_burned = duration * bersepeda\n",
    "        return calories_burned\n",
    "\n",
    "duration = int(input(\"Masukkan durasi :\"))\n",
    "excercise=int(input(\"Jenis Excercise : Ketik 1 untuk berenang, 2 untuk berlari, 3 untuk bersepeda\"))\n",
    "  \n",
    "\n",
    "while excercise > 3:\n",
    "        excercise=int(input(\"Jenis Excercise : Ketik 1 untuk berenang, 2 untuk berlari, 3 untuk bersepeda\")) \n",
    "        print(\"Harus pilih angka 1 / 2 / 3\")\n",
    "else:\n",
    "        latihan(duration, excercise)\n",
    "        calories_burned = (latihan(duration, excercise))\n",
    "\n",
    "\n",
    "print (\"durasi latihan : \", duration, \" menit\")\n",
    "print (\"jenis latihan : \", excercise)\n",
    "print (\"jumlah kalori terbakar : \", calories_burned, \" Kalori\")\n",
    "\n",
    "'''"
   ]
  },
  {
   "cell_type": "markdown",
   "metadata": {},
   "source": [
    "2. Buat function untuk menghitung total kalori terbakar dari beberapa sesi latihan, manfaatkan fungsi yang telah dibuat sebelumnya di dalam function ini.\n",
    "Notes:\n",
    "\n",
    "Dalam kasus ini diasumsikan setiap sesi latihan memiliki durasi yang sama (each_session_duration).\n",
    "Function yang dibuat memiliki input argumen berupa: n-length jenis latihan yang dilakukan di setiap sesinya dan each_session_duration\n",
    "Manfaatkan *args variable-length input untuk memasukkan jenis latihan.\n",
    "Manfaatkan function yang telah dibuat sebelumnya untuk mengitung kalori terbakar di setiap sesi\n",
    "Contoh:\n",
    "\n",
    ">>> input: total_session_burned_cal('berenang', 'bersepeda', each_session_duration=10)\n",
    ">>> output: 200\n",
    "\n",
    "penjelasan:\n",
    "kegiatan berenang dilakukan 10 menit dan kegiatan bersepeda dilakukan 10 menit dapat membakar total 200 kalori\n",
    "\n",
    ">>> input: total_session_burned_cal('berenang', 'berlari', 'bersepeda', each_session_duration=5)\n",
    ">>> output: 150\n",
    "\n",
    "penjelasan:\n",
    "kegiatan berenang, berlari dan bersepeda yang masing-masing dilakukan 5 menit dapat membakar 150 kalori."
   ]
  },
  {
   "cell_type": "code",
   "execution_count": null,
   "metadata": {},
   "outputs": [],
   "source": [
    "def latihan(duration, excercise):\n",
    "        calories_burned = (duration * excercise)\n",
    "        return calories_burned\n",
    "\n",
    "excercise= {\n",
    "        'berenang':12,\n",
    "        'berlari':10,\n",
    "        'bersepeda':8\n",
    "        }\n",
    "calories_burned = ([])\n",
    "duration = int(input(\"Masukkan durasi :\"))\n",
    "total = 0\n",
    "j = 0\n",
    "excercise_list = []\n",
    "x = False\n",
    "while x == False:\n",
    "    session=input(\"Masukkan jenis latihannya (kosongkan bila sudah selesai menambahkan)\")\n",
    "    excercise_list.append(session)\n",
    "    ask = input (\"tambah latihan? yes / no\")\n",
    "    if ask == \"yes\":\n",
    "        x = False\n",
    "    else:\n",
    "        x = True\n",
    "print(excercise_list)        \n",
    "for i in excercise_list:\n",
    "    print (i)\n",
    "    #latihan(duration, excercise[i])\n",
    "    calories_burned.append (duration * excercise[i])\n",
    "    total += calories_burned[j]\n",
    "    j+=1\n",
    "\n",
    "#print (latihan(10, excercise))\n",
    "print (calories_burned)\n",
    "print (total)\n",
    "    "
   ]
  },
  {
   "cell_type": "code",
   "execution_count": null,
   "metadata": {},
   "outputs": [],
   "source": [
    "excercise= {\n",
    "        'berenang':12,\n",
    "        'berlari':10,\n",
    "        'bersepeda':8\n",
    "        }\n",
    "calories_burned = ([])\n",
    "duration = int(input(\"Masukkan durasi :\"))\n",
    "excercise_list = []\n",
    "x = False\n",
    "while x == False:\n",
    "    session=input(\"Masukkan jenis latihannya (kosongkan bila sudah selesai menambahkan)\")\n",
    "    excercise_list.append(session)\n",
    "    ask = input (\"tambah latihan? yes / no\")\n",
    "    if ask == \"yes\":\n",
    "        x = False\n",
    "    else:\n",
    "        x = True\n",
    "#print(excercise_list) \n",
    "\n",
    "total = 0\n",
    "j = 0      \n",
    "for i in excercise_list:\n",
    "    #print (i)\n",
    "    latihan(duration, excercise[i])\n",
    "    calories_burned.append (duration * excercise[i])\n",
    "    total += calories_burned[j]\n",
    "    j+=1\n",
    "\n",
    "#print (latihan(10, excercise))\n",
    "print (calories_burned)\n",
    "#print (training_session(duration, *excercise_list))\n",
    "print (total)\n",
    "    "
   ]
  },
  {
   "cell_type": "code",
   "execution_count": 10,
   "metadata": {},
   "outputs": [
    {
     "data": {
      "text/plain": [
       "200"
      ]
     },
     "execution_count": 10,
     "metadata": {},
     "output_type": "execute_result"
    }
   ],
   "source": [
    "excercise= {\n",
    "        'berenang':12,\n",
    "        'berlari':10,\n",
    "        'bersepeda':8\n",
    "        }\n",
    "calories_burned = ([])\n",
    "duration = int(input(\"Masukkan durasi :\"))\n",
    "excercise_list = []\n",
    "x = False\n",
    "while x == False:\n",
    "    session=input(\"Masukkan jenis latihannya (kosongkan bila sudah selesai menambahkan)\")\n",
    "    excercise_list.append(session)\n",
    "    ask = input (\"tambah latihan? y/n\")\n",
    "    if ask == \"y\":\n",
    "        x = False\n",
    "    else:\n",
    "        x = True\n",
    "#print(excercise_list) \n",
    "'''function untuk menghitung jumlah kalori yang terbakar dalam 1 sesi latihan'''\n",
    "def training_session(duration, *excercise_list):\n",
    "    jumlah = 0\n",
    "    j = 0      \n",
    "    for i in excercise_list:\n",
    "        #print (i)\n",
    "        latihan(duration, excercise[i])\n",
    "        calories_burned.append (duration * excercise[i])\n",
    "        jumlah += calories_burned[j]\n",
    "        j+=1\n",
    "    return jumlah\n",
    "training_session(duration, *excercise_list)\n",
    "\n",
    "#print (latihan(10, excercise))\n",
    "\n",
    "#print (calories_burned)\n",
    "#print (training_session(duration, *excercise_list))\n"
   ]
  },
  {
   "cell_type": "markdown",
   "metadata": {},
   "source": [
    "3. Lakukan Unit Testing pada kedua function yang telah dibuat.\n",
    "Notes:\n",
    "\n",
    "Pengujian Unit testing dapat dilakukan pada cell .ipynb dengan cara:\n",
    "\n",
    "Cukup buat cell baru dan tulis code kerangka unit test di cell tersebut dan jalankan langsung di cell tanpa menggunakan if name()=='main'.\n",
    "\n",
    "Sebagai pengganti idiom ini:\n",
    "\n",
    "`if __name__=='__main__'`:\n",
    " unittest.main()\n",
    "dapat menggunakan:\n",
    "\n",
    "unittest.main(argv=[''], exit=False)"
   ]
  },
  {
   "cell_type": "code",
   "execution_count": 11,
   "metadata": {},
   "outputs": [
    {
     "name": "stderr",
     "output_type": "stream",
     "text": [
      ".\n",
      "----------------------------------------------------------------------\n",
      "Ran 1 test in 0.001s\n",
      "\n",
      "OK\n"
     ]
    },
    {
     "data": {
      "text/plain": [
       "<unittest.main.TestProgram at 0x2612ff5bda0>"
      ]
     },
     "execution_count": 11,
     "metadata": {},
     "output_type": "execute_result"
    }
   ],
   "source": [
    "import unittest\n",
    "\n",
    "class TestLatihan(unittest.TestCase):\n",
    "  def test_latihan(self):\n",
    "    result = latihan(10, excercise[\"berenang\"])\n",
    "    self.assertEqual(result, 120)\n",
    "\n",
    "  def test_training_session(self):\n",
    "    result = training_session(10, \"berenang\", \"bersepeda\")\n",
    "    self.assertEqual(result, 200)\n",
    "unittest.main(argv=[''], exit=False)"
   ]
  }
 ],
 "metadata": {
  "kernelspec": {
   "display_name": "base",
   "language": "python",
   "name": "python3"
  },
  "language_info": {
   "codemirror_mode": {
    "name": "ipython",
    "version": 3
   },
   "file_extension": ".py",
   "mimetype": "text/x-python",
   "name": "python",
   "nbconvert_exporter": "python",
   "pygments_lexer": "ipython3",
   "version": "3.12.4"
  }
 },
 "nbformat": 4,
 "nbformat_minor": 2
}
