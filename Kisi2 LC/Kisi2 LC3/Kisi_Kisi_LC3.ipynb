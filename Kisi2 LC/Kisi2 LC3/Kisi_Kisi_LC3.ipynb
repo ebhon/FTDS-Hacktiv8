{
  "cells": [
    {
      "cell_type": "markdown",
      "metadata": {
        "id": "e0E_A5aDbO7r"
      },
      "source": [
        "## **API**\n",
        "\n",
        "Buatlah API untuk:\n",
        "- `Menampilkan` seluruh entry data setelah dilakukan handling outlier.\n",
        "- `Menghapus` entry data, dari data yang telah dihandling outlier.\n",
        "\n",
        "clue:\n",
        "- Load data csv yang sudah diolah dengan pandas, kemudian konversi data ke dictionary `df.to_dict()` atau json `df.to_json()` untuk dapat diolah lebih lanjut dengan API menggunakan FastAPI.\n",
        "- Pembuatan API dilakukan pada script `.py`\n",
        "- Endpoint dan penamaan function pada API dibebaskan.\n",
        "\n"
      ]
    },
    {
      "cell_type": "markdown",
      "metadata": {},
      "source": [
        "# ASSIGNMENT : \n",
        "Perusahaan peminjaman sepeda di San Fransisco memintamu untuk menganalisa durasi perjalanan customer mereka. Untuk memudahkan analisa, lakukan hal-hal berikut ini:"
      ]
    },
    {
      "cell_type": "code",
      "execution_count": null,
      "metadata": {
        "colab": {
          "base_uri": "https://localhost:8080/",
          "height": 459
        },
        "id": "stLFk77dk8Ek",
        "outputId": "28848677-48a2-4d54-8585-8d50b86cd09d"
      },
      "outputs": [],
      "source": [
        "# Working area\n",
        "from google.colab import auth\n",
        "from google.cloud import bigquery\n",
        "import pandas as pd\n",
        "from google.colab import drive\n",
        "drive.mount('/content/drive')\n",
        "\n",
        "auth.authenticate_user()\n",
        "print('Authenticated')\n",
        "\n",
        "\n",
        "project_id = \"hacktiv8-435414\" #GUNAKAN GCP PROJECT-ID KALIAN MASING-MASING\n",
        "\n",
        "\n",
        "\n",
        "syn = \"\"\"SELECT duration_sec FROM`bigquery-public-data.san_francisco_bikeshare.bikeshare_trips` LIMIT 3000\n",
        "\n",
        "\"\"\"\n",
        "\n",
        "df = client.query(syn).to_dataframe()\n",
        "df.to_csv('/content/drive/My Drive/mydata.csv', index=False)\n",
        "\n",
        "df"
      ]
    },
    {
      "cell_type": "code",
      "execution_count": 40,
      "metadata": {},
      "outputs": [
        {
          "name": "stderr",
          "output_type": "stream",
          "text": [
            "C:\\Users\\handw\\AppData\\Local\\Temp\\ipykernel_206204\\2314149309.py:5: DeprecationWarning: Importing display from IPython.core.display is deprecated since IPython 7.14, please import from IPython display\n",
            "  from IPython.core.display import display, html\n"
          ]
        }
      ],
      "source": [
        "import pandas as pd\n",
        "from scipy import stats\n",
        "import matplotlib.pyplot as plt\n",
        "import seaborn as sns\n",
        "from IPython.core.display import display, html\n",
        "import numpy as np"
      ]
    },
    {
      "cell_type": "code",
      "execution_count": 41,
      "metadata": {
        "id": "9dW5boK9BplZ"
      },
      "outputs": [
        {
          "data": {
            "text/html": [
              "<div>\n",
              "<style scoped>\n",
              "    .dataframe tbody tr th:only-of-type {\n",
              "        vertical-align: middle;\n",
              "    }\n",
              "\n",
              "    .dataframe tbody tr th {\n",
              "        vertical-align: top;\n",
              "    }\n",
              "\n",
              "    .dataframe thead th {\n",
              "        text-align: right;\n",
              "    }\n",
              "</style>\n",
              "<table border=\"1\" class=\"dataframe\">\n",
              "  <thead>\n",
              "    <tr style=\"text-align: right;\">\n",
              "      <th></th>\n",
              "      <th>duration_sec</th>\n",
              "    </tr>\n",
              "  </thead>\n",
              "  <tbody>\n",
              "    <tr>\n",
              "      <th>0</th>\n",
              "      <td>2532</td>\n",
              "    </tr>\n",
              "    <tr>\n",
              "      <th>1</th>\n",
              "      <td>623</td>\n",
              "    </tr>\n",
              "    <tr>\n",
              "      <th>2</th>\n",
              "      <td>540</td>\n",
              "    </tr>\n",
              "    <tr>\n",
              "      <th>3</th>\n",
              "      <td>585</td>\n",
              "    </tr>\n",
              "    <tr>\n",
              "      <th>4</th>\n",
              "      <td>451</td>\n",
              "    </tr>\n",
              "    <tr>\n",
              "      <th>...</th>\n",
              "      <td>...</td>\n",
              "    </tr>\n",
              "    <tr>\n",
              "      <th>2995</th>\n",
              "      <td>1205</td>\n",
              "    </tr>\n",
              "    <tr>\n",
              "      <th>2996</th>\n",
              "      <td>1104</td>\n",
              "    </tr>\n",
              "    <tr>\n",
              "      <th>2997</th>\n",
              "      <td>198</td>\n",
              "    </tr>\n",
              "    <tr>\n",
              "      <th>2998</th>\n",
              "      <td>957</td>\n",
              "    </tr>\n",
              "    <tr>\n",
              "      <th>2999</th>\n",
              "      <td>1567</td>\n",
              "    </tr>\n",
              "  </tbody>\n",
              "</table>\n",
              "<p>3000 rows × 1 columns</p>\n",
              "</div>"
            ],
            "text/plain": [
              "      duration_sec\n",
              "0             2532\n",
              "1              623\n",
              "2              540\n",
              "3              585\n",
              "4              451\n",
              "...            ...\n",
              "2995          1205\n",
              "2996          1104\n",
              "2997           198\n",
              "2998           957\n",
              "2999          1567\n",
              "\n",
              "[3000 rows x 1 columns]"
            ]
          },
          "execution_count": 41,
          "metadata": {},
          "output_type": "execute_result"
        }
      ],
      "source": [
        "\n",
        "df = pd.read_csv('mydata.csv')\n",
        "df"
      ]
    },
    {
      "cell_type": "code",
      "execution_count": 3,
      "metadata": {},
      "outputs": [
        {
          "name": "stdout",
          "output_type": "stream",
          "text": [
            "<class 'pandas.core.frame.DataFrame'>\n",
            "RangeIndex: 3000 entries, 0 to 2999\n",
            "Data columns (total 1 columns):\n",
            " #   Column        Non-Null Count  Dtype\n",
            "---  ------        --------------  -----\n",
            " 0   duration_sec  3000 non-null   int64\n",
            "dtypes: int64(1)\n",
            "memory usage: 23.6 KB\n"
          ]
        }
      ],
      "source": [
        "df.info()"
      ]
    },
    {
      "cell_type": "code",
      "execution_count": 4,
      "metadata": {},
      "outputs": [
        {
          "data": {
            "text/plain": [
              "duration_sec    1198\n",
              "dtype: int64"
            ]
          },
          "execution_count": 4,
          "metadata": {},
          "output_type": "execute_result"
        }
      ],
      "source": [
        "df.nunique()"
      ]
    },
    {
      "cell_type": "code",
      "execution_count": 5,
      "metadata": {},
      "outputs": [
        {
          "data": {
            "text/plain": [
              "duration_sec    0\n",
              "dtype: int64"
            ]
          },
          "execution_count": 5,
          "metadata": {},
          "output_type": "execute_result"
        }
      ],
      "source": [
        "df.isna().sum()"
      ]
    },
    {
      "cell_type": "code",
      "execution_count": 6,
      "metadata": {},
      "outputs": [
        {
          "data": {
            "text/html": [
              "<div>\n",
              "<style scoped>\n",
              "    .dataframe tbody tr th:only-of-type {\n",
              "        vertical-align: middle;\n",
              "    }\n",
              "\n",
              "    .dataframe tbody tr th {\n",
              "        vertical-align: top;\n",
              "    }\n",
              "\n",
              "    .dataframe thead th {\n",
              "        text-align: right;\n",
              "    }\n",
              "</style>\n",
              "<table border=\"1\" class=\"dataframe\">\n",
              "  <thead>\n",
              "    <tr style=\"text-align: right;\">\n",
              "      <th></th>\n",
              "      <th>duration_sec</th>\n",
              "    </tr>\n",
              "  </thead>\n",
              "  <tbody>\n",
              "    <tr>\n",
              "      <th>0</th>\n",
              "      <td>2532</td>\n",
              "    </tr>\n",
              "    <tr>\n",
              "      <th>1</th>\n",
              "      <td>623</td>\n",
              "    </tr>\n",
              "    <tr>\n",
              "      <th>2</th>\n",
              "      <td>540</td>\n",
              "    </tr>\n",
              "    <tr>\n",
              "      <th>3</th>\n",
              "      <td>585</td>\n",
              "    </tr>\n",
              "    <tr>\n",
              "      <th>4</th>\n",
              "      <td>451</td>\n",
              "    </tr>\n",
              "    <tr>\n",
              "      <th>...</th>\n",
              "      <td>...</td>\n",
              "    </tr>\n",
              "    <tr>\n",
              "      <th>2995</th>\n",
              "      <td>1205</td>\n",
              "    </tr>\n",
              "    <tr>\n",
              "      <th>2996</th>\n",
              "      <td>1104</td>\n",
              "    </tr>\n",
              "    <tr>\n",
              "      <th>2997</th>\n",
              "      <td>198</td>\n",
              "    </tr>\n",
              "    <tr>\n",
              "      <th>2998</th>\n",
              "      <td>957</td>\n",
              "    </tr>\n",
              "    <tr>\n",
              "      <th>2999</th>\n",
              "      <td>1567</td>\n",
              "    </tr>\n",
              "  </tbody>\n",
              "</table>\n",
              "<p>3000 rows × 1 columns</p>\n",
              "</div>"
            ],
            "text/plain": [
              "      duration_sec\n",
              "0             2532\n",
              "1              623\n",
              "2              540\n",
              "3              585\n",
              "4              451\n",
              "...            ...\n",
              "2995          1205\n",
              "2996          1104\n",
              "2997           198\n",
              "2998           957\n",
              "2999          1567\n",
              "\n",
              "[3000 rows x 1 columns]"
            ]
          },
          "execution_count": 6,
          "metadata": {},
          "output_type": "execute_result"
        }
      ],
      "source": [
        "#df = df.drop_duplicates()\n",
        "df"
      ]
    },
    {
      "cell_type": "markdown",
      "metadata": {},
      "source": [
        "## **STATISTIK DESKRIPTIF**\n",
        "\n"
      ]
    },
    {
      "cell_type": "markdown",
      "metadata": {},
      "source": [
        "### 1. Lakukan perhitungan central tendency (mean, median, dan modus).\n"
      ]
    },
    {
      "cell_type": "code",
      "execution_count": 42,
      "metadata": {},
      "outputs": [
        {
          "name": "stdout",
          "output_type": "stream",
          "text": [
            "Average of duration_sec : 897.2766666666666 sec\n",
            "Median of duration_sec : 506.5 sec\n",
            "Mode of duration_sec : 220 sec\n"
          ]
        }
      ],
      "source": [
        "#syntax ini digunakan untuk menghitung nilai rata-rata, median, dan modus dari duration_sec\n",
        "print (f\"Average of duration_sec : {df['duration_sec'].mean()} sec\")\n",
        "print (f\"Median of duration_sec : {df['duration_sec'].median()} sec\")\n",
        "print (f\"Mode of duration_sec : {df['duration_sec'].mode().values[0]} sec\")"
      ]
    },
    {
      "cell_type": "markdown",
      "metadata": {},
      "source": [
        "##### Insight : Central Tendency\n",
        "Berdasarkan hasil perhitungan data awal, diketahui bahwa Rata-rata durasi peminjaman sepeda adalah 897.2766666666666 detik, dengan nilai median sebesar 506.5 detik, dan modus senilai 220 detik"
      ]
    },
    {
      "cell_type": "code",
      "execution_count": 43,
      "metadata": {},
      "outputs": [
        {
          "data": {
            "text/plain": [
              "duration_sec\n",
              "220    12\n",
              "325    12\n",
              "224    11\n",
              "427     9\n",
              "597     9\n",
              "201     9\n",
              "623     9\n",
              "490     8\n",
              "254     8\n",
              "187     8\n",
              "488     8\n",
              "219     8\n",
              "223     8\n",
              "283     8\n",
              "251     8\n",
              "Name: count, dtype: int64"
            ]
          },
          "execution_count": 43,
          "metadata": {},
          "output_type": "execute_result"
        }
      ],
      "source": [
        "#Syntax ini digunakan untuk menampilkan 15 baris data denggan nilai yang paling sering muncul\n",
        "df['duration_sec'].value_counts().head(15)"
      ]
    },
    {
      "cell_type": "markdown",
      "metadata": {},
      "source": [
        "##### Insight \n",
        "Berdasarkan hasil output diatas, dapat dilihat bahwa nilai 220 muncul sebanyak 12 kali pada data, data ini sebagai validasi bahwa nilai modus dari duration_sec sudah sesuai"
      ]
    },
    {
      "cell_type": "code",
      "execution_count": 44,
      "metadata": {},
      "outputs": [
        {
          "data": {
            "text/plain": [
              "1185    84857\n",
              "1288    57671\n",
              "2271    57519\n",
              "2626    55240\n",
              "2102    53298\n",
              "        ...  \n",
              "2315       86\n",
              "2720       84\n",
              "2314       81\n",
              "1234       73\n",
              "2530       66\n",
              "Name: duration_sec, Length: 3000, dtype: int64"
            ]
          },
          "execution_count": 44,
          "metadata": {},
          "output_type": "execute_result"
        }
      ],
      "source": [
        "# syntax ini digunakan untuk menampilkan data dimulai dengan baris yang memiliki nilai tertinggi\n",
        "df['duration_sec'].sort_values(ascending=False)"
      ]
    },
    {
      "cell_type": "markdown",
      "metadata": {},
      "source": [
        "##### Insight\n",
        "Pada bagian ini, dapat dilihat bahwa terdapat beberapa baris yang memiliki angka cukup besar dari angka yang lainnya, sehingga perlu dilakukan pemeriksaan apakah terdapat data Outlier pada dataset ini"
      ]
    },
    {
      "cell_type": "markdown",
      "metadata": {},
      "source": [
        "### 2. Lakukan pengecekan dispersi (standar deviasi, variance, dan range)."
      ]
    },
    {
      "cell_type": "code",
      "execution_count": 45,
      "metadata": {},
      "outputs": [
        {
          "name": "stdout",
          "output_type": "stream",
          "text": [
            "Range of duration_sec : 84791\n",
            "Range of duration_sec from 66 to 84857\n"
          ]
        }
      ],
      "source": [
        "range = df['duration_sec'].max() - df['duration_sec'].min()\n",
        "print (f\"Range of duration_sec : {range}\")\n",
        "print (f\"Range of duration_sec from {df['duration_sec'].min()} to {df['duration_sec'].max()}\")"
      ]
    },
    {
      "cell_type": "code",
      "execution_count": 29,
      "metadata": {},
      "outputs": [
        {
          "name": "stdout",
          "output_type": "stream",
          "text": [
            "Variance of duration_sec : 10705096.701022575\n"
          ]
        }
      ],
      "source": [
        "variance = df['duration_sec'].var()\n",
        "print (f\"Variance of duration_sec : {variance}\")"
      ]
    },
    {
      "cell_type": "code",
      "execution_count": 46,
      "metadata": {},
      "outputs": [
        {
          "name": "stdout",
          "output_type": "stream",
          "text": [
            "3271.864407493467\n",
            "standard deviation of duration_sec: 3271.864407493467\n"
          ]
        }
      ],
      "source": [
        "print (f\"{np.sqrt(df['duration_sec'].var())}\")\n",
        "\n",
        "std = df['duration_sec'].std()\n",
        "print (f\"standard deviation of duration_sec: {std}\")"
      ]
    },
    {
      "cell_type": "markdown",
      "metadata": {},
      "source": [
        "\n",
        "### 3. Lakukan pengecekan skewness dan kurtosis."
      ]
    },
    {
      "cell_type": "code",
      "execution_count": 47,
      "metadata": {},
      "outputs": [
        {
          "name": "stdout",
          "output_type": "stream",
          "text": [
            "Skewness: 16.101026386710053\n"
          ]
        }
      ],
      "source": [
        "print(f\"Skewness: {df['duration_sec'].skew()}\")"
      ]
    },
    {
      "cell_type": "markdown",
      "metadata": {},
      "source": [
        "##### Insight\n",
        "Berdasarkan perhitungan skewness, dimana hasilnya lebih besar dari 0.05, terdapat indikasi data Outlier pada dataset ini"
      ]
    },
    {
      "cell_type": "code",
      "execution_count": 48,
      "metadata": {},
      "outputs": [
        {
          "name": "stdout",
          "output_type": "stream",
          "text": [
            "Kurtosis: 301.7823931823024\n"
          ]
        }
      ],
      "source": [
        "print(f\"Kurtosis: {df['duration_sec'].kurtosis()}\")"
      ]
    },
    {
      "cell_type": "markdown",
      "metadata": {},
      "source": [
        "\n",
        "### 3. Analisa apakah ada data outlier berdasarkan sebaran datanya."
      ]
    },
    {
      "cell_type": "code",
      "execution_count": 51,
      "metadata": {},
      "outputs": [
        {
          "name": "stdout",
          "output_type": "stream",
          "text": [
            "Q1: 312.5\n",
            "Q2: 506.5\n",
            "Q3: 809.0\n",
            "Interquartile Range (IQR): 496.5\n",
            "Lower Boundaries : -432.25\n",
            "Upper Boundaries : 1553.75\n",
            "Max. Value : 84857\n",
            "Min. Value : 66\n"
          ]
        }
      ],
      "source": [
        "q1 = df['duration_sec'].quantile(0.25)\n",
        "q2 = df['duration_sec'].quantile(0.5)\n",
        "q3 = df['duration_sec'].quantile(0.75)\n",
        "\n",
        "iqr = q3 - q1\n",
        "\n",
        "low_bound = q1 - 1.5 * iqr\n",
        "up_bound = q3 + 1.5 * iqr\n",
        "\n",
        "print('Q1:',q1)\n",
        "print('Q2:',q2)\n",
        "print('Q3:',q3)\n",
        "print('Interquartile Range (IQR):',iqr)\n",
        "print(f'Lower Boundaries : {low_bound}')\n",
        "print(f'Upper Boundaries : {up_bound}')\n",
        "print (f\"Max. Value : {df['duration_sec'].max()}\")\n",
        "print(f'Min. Value : {df['duration_sec'].min()}')"
      ]
    },
    {
      "cell_type": "markdown",
      "metadata": {},
      "source": [
        "##### Insight : \n",
        "Berdasarkan perhitungan Q1, Q2, Q3, IQR, diketahui bahwa batas bawah adalah -432.25, sedangkan batas tertinggi adalah 1553.75. Sedangkan di dalam dataset, terdapat data yang memiliki nilai lebih besar dari batas atas tersebut, sehingga dapat dipastikan dataset ini memiliki Outlier"
      ]
    },
    {
      "cell_type": "markdown",
      "metadata": {},
      "source": [
        "\n",
        "### 4. Cari tahu berapa persentase outlier terhadap data keseluruhan."
      ]
    },
    {
      "cell_type": "code",
      "execution_count": 53,
      "metadata": {},
      "outputs": [
        {
          "name": "stdout",
          "output_type": "stream",
          "text": [
            "Percentage of outliers: 5.87%%\n",
            "Percentage of no outliers: 94.13%%\n"
          ]
        }
      ],
      "source": [
        "outlier = df['duration_sec'][(df['duration_sec']<low_bound) | (df['duration_sec']>up_bound)]\n",
        "no_outlier = df['duration_sec'][(df['duration_sec']>=low_bound) & (df['duration_sec']<=up_bound)]\n",
        "\n",
        "print(f'Percentage of outliers: {len(outlier)*100/len(df['duration_sec']):.2f}%%')\n",
        "print(f'Percentage of no outliers: {len(no_outlier)*100/len(df['duration_sec']):.2f}%%')"
      ]
    },
    {
      "cell_type": "markdown",
      "metadata": {},
      "source": [
        "##### Insight : \n",
        "Setelah diketahui bahwa terdapat Outlier, maka dilakukan kembali penghitungan untuk mengetahui jumlah data yang tidak normal, hasilnya adalah 5.87% data adalah Outlier"
      ]
    },
    {
      "cell_type": "markdown",
      "metadata": {},
      "source": [
        "\n",
        "### 5. Bagaimana perubahan pemusatan data sebelum dan sesudah penghapusan outlier?"
      ]
    },
    {
      "cell_type": "markdown",
      "metadata": {},
      "source": [
        "##### Sebelum penghapusan Outlier"
      ]
    },
    {
      "cell_type": "code",
      "execution_count": null,
      "metadata": {},
      "outputs": [
        {
          "data": {
            "text/plain": [
              "<Axes: ylabel='Frequency'>"
            ]
          },
          "metadata": {},
          "output_type": "display_data"
        },
        {
          "data": {
            "image/png": "[encoded data removed]",
            "text/plain": [
              "<Figure size 640x480 with 1 Axes>"
            ]
          },
          "metadata": {},
          "output_type": "display_data"
        }
      ],
      "source": [
        "df['duration_sec'].plot(kind='hist', bins=10)"
      ]
    },
    {
      "cell_type": "code",
      "execution_count": null,
      "metadata": {},
      "outputs": [
        {
          "data": {
            "image/png": "[encoded data removed]",
            "text/plain": [
              "<Figure size 600x400 with 1 Axes>"
            ]
          },
          "metadata": {},
          "output_type": "display_data"
        }
      ],
      "source": [
        "plt.figure(figsize=(6, 4))\n",
        "plt.boxplot(df['duration_sec'], vert=False, patch_artist=True)\n",
        "\n",
        "plt.annotate(f'Q1 = {q1}', xy=(q1, 1.06), xytext=(q1, 1.2), arrowprops=dict(facecolor='black', arrowstyle='->'))\n",
        "plt.annotate(f'Q2 = {q2}', xy=(q2, 1.06), xytext=(q2, 1.3), arrowprops=dict(facecolor='black', arrowstyle='->'))\n",
        "plt.annotate(f'Q3 = {q3}', xy=(q3, 1.06), xytext=(q3, 1.2), arrowprops=dict(facecolor='black', arrowstyle='->'))\n",
        "plt.annotate(f'IQR = {iqr}', xy=((q1+q3)/2, 0.85), ha='center')\n",
        "\n",
        "plt.axvline(q1, linestyle='--', color='gray', label='Q1')\n",
        "plt.axvline(q3, linestyle='--', color='gray', label='Q3')\n",
        "plt.axvspan(q1, q3, alpha=0.2, color='gray', label='IQR')\n",
        "\n",
        "plt.xlabel('Values')\n",
        "plt.title('Boxplot of Duration Sec')\n",
        "\n",
        "plt.show()"
      ]
    },
    {
      "cell_type": "code",
      "execution_count": null,
      "metadata": {},
      "outputs": [
        {
          "data": {
            "text/plain": [
              "<Axes: >"
            ]
          },
          "metadata": {},
          "output_type": "display_data"
        },
        {
          "data": {
            "image/png": "[encoded data removed]",
            "text/plain": [
              "<Figure size 1000x400 with 2 Axes>"
            ]
          },
          "metadata": {},
          "output_type": "display_data"
        }
      ],
      "source": [
        "fig, ax = plt.subplots(ncols=2,figsize=(10,4))\n",
        "\n",
        "df['duration_sec'].plot(kind='hist',bins=20,ax=ax[0])\n",
        "df['duration_sec'].plot(kind='box',ax=ax[1])"
      ]
    },
    {
      "cell_type": "markdown",
      "metadata": {},
      "source": [
        "##### Insight : Sebelum penghapusan Outlier\n",
        "Berdasarkan grafik di atas, terlihat bahwa data yang Outlier sangat mempengaruhi grafik yang ditampilkan, sehingga sangat diperlukan penghapusan outlier untuk mendapatkan data yang akurat"
      ]
    },
    {
      "cell_type": "markdown",
      "metadata": {},
      "source": [
        "##### Sesudah Penghapusan Outlier"
      ]
    },
    {
      "cell_type": "code",
      "execution_count": 54,
      "metadata": {},
      "outputs": [
        {
          "data": {
            "text/html": [
              "<div>\n",
              "<style scoped>\n",
              "    .dataframe tbody tr th:only-of-type {\n",
              "        vertical-align: middle;\n",
              "    }\n",
              "\n",
              "    .dataframe tbody tr th {\n",
              "        vertical-align: top;\n",
              "    }\n",
              "\n",
              "    .dataframe thead th {\n",
              "        text-align: right;\n",
              "    }\n",
              "</style>\n",
              "<table border=\"1\" class=\"dataframe\">\n",
              "  <thead>\n",
              "    <tr style=\"text-align: right;\">\n",
              "      <th></th>\n",
              "      <th>duration_sec</th>\n",
              "    </tr>\n",
              "  </thead>\n",
              "  <tbody>\n",
              "    <tr>\n",
              "      <th>1</th>\n",
              "      <td>623</td>\n",
              "    </tr>\n",
              "    <tr>\n",
              "      <th>2</th>\n",
              "      <td>540</td>\n",
              "    </tr>\n",
              "    <tr>\n",
              "      <th>3</th>\n",
              "      <td>585</td>\n",
              "    </tr>\n",
              "    <tr>\n",
              "      <th>4</th>\n",
              "      <td>451</td>\n",
              "    </tr>\n",
              "    <tr>\n",
              "      <th>5</th>\n",
              "      <td>518</td>\n",
              "    </tr>\n",
              "    <tr>\n",
              "      <th>...</th>\n",
              "      <td>...</td>\n",
              "    </tr>\n",
              "    <tr>\n",
              "      <th>2994</th>\n",
              "      <td>1267</td>\n",
              "    </tr>\n",
              "    <tr>\n",
              "      <th>2995</th>\n",
              "      <td>1205</td>\n",
              "    </tr>\n",
              "    <tr>\n",
              "      <th>2996</th>\n",
              "      <td>1104</td>\n",
              "    </tr>\n",
              "    <tr>\n",
              "      <th>2997</th>\n",
              "      <td>198</td>\n",
              "    </tr>\n",
              "    <tr>\n",
              "      <th>2998</th>\n",
              "      <td>957</td>\n",
              "    </tr>\n",
              "  </tbody>\n",
              "</table>\n",
              "<p>2824 rows × 1 columns</p>\n",
              "</div>"
            ],
            "text/plain": [
              "      duration_sec\n",
              "1              623\n",
              "2              540\n",
              "3              585\n",
              "4              451\n",
              "5              518\n",
              "...            ...\n",
              "2994          1267\n",
              "2995          1205\n",
              "2996          1104\n",
              "2997           198\n",
              "2998           957\n",
              "\n",
              "[2824 rows x 1 columns]"
            ]
          },
          "execution_count": 54,
          "metadata": {},
          "output_type": "execute_result"
        }
      ],
      "source": [
        "#syntax ini digunakan untuk menghapus baris yang memiliki nilai outlier\n",
        "df = df.query('duration_sec < 1553.75')\n",
        "df"
      ]
    },
    {
      "cell_type": "markdown",
      "metadata": {},
      "source": [
        "##### Insight\n",
        "Setelah dilakukan penghapusan data yang Outlier, tersisa 2824 baris data dari awalnya 3000 data"
      ]
    },
    {
      "cell_type": "code",
      "execution_count": 55,
      "metadata": {},
      "outputs": [
        {
          "name": "stdout",
          "output_type": "stream",
          "text": [
            "Percentage of outliers: 0.00%%\n",
            "Percentage of no outliers: 100.00%%\n"
          ]
        }
      ],
      "source": [
        "outlier = df['duration_sec'][(df['duration_sec']<low_bound) | (df['duration_sec']>up_bound)]\n",
        "no_outlier = df['duration_sec'][(df['duration_sec']>=low_bound) & (df['duration_sec']<=up_bound)]\n",
        "\n",
        "print(f'Percentage of outliers: {len(outlier)*100/len(df['duration_sec']):.2f}%%')\n",
        "print(f'Percentage of no outliers: {len(no_outlier)*100/len(df['duration_sec']):.2f}%%')"
      ]
    },
    {
      "cell_type": "markdown",
      "metadata": {},
      "source": [
        "##### Insight\n",
        "Dilakukan pengetesan jumlah persentase outlier kembali, dan hasilnya sudah 100% data bukan Outlier"
      ]
    },
    {
      "cell_type": "code",
      "execution_count": 56,
      "metadata": {},
      "outputs": [
        {
          "name": "stdout",
          "output_type": "stream",
          "text": [
            "Skewness: 0.9029556039011407\n"
          ]
        }
      ],
      "source": [
        "print(f\"Skewness: {df['duration_sec'].skew()}\")"
      ]
    },
    {
      "cell_type": "code",
      "execution_count": 57,
      "metadata": {},
      "outputs": [
        {
          "name": "stdout",
          "output_type": "stream",
          "text": [
            "Kurtosis: 0.22955851508730074\n"
          ]
        }
      ],
      "source": [
        "print(f\"Kurtosis: {df['duration_sec'].kurtosis()}\")"
      ]
    },
    {
      "cell_type": "code",
      "execution_count": null,
      "metadata": {},
      "outputs": [
        {
          "data": {
            "text/plain": [
              "<Axes: ylabel='Frequency'>"
            ]
          },
          "metadata": {},
          "output_type": "display_data"
        },
        {
          "data": {
            "image/png": "[encoded data removed]",
            "text/plain": [
              "<Figure size 640x480 with 1 Axes>"
            ]
          },
          "metadata": {},
          "output_type": "display_data"
        }
      ],
      "source": [
        "df['duration_sec'].plot(kind='hist', bins=10)"
      ]
    },
    {
      "cell_type": "code",
      "execution_count": 59,
      "metadata": {},
      "outputs": [
        {
          "data": {
            "image/png": "[encoded data removed]",
            "text/plain": [
              "<Figure size 600x400 with 1 Axes>"
            ]
          },
          "metadata": {},
          "output_type": "display_data"
        }
      ],
      "source": [
        "plt.figure(figsize=(6, 4))\n",
        "plt.boxplot(df['duration_sec'], vert=False, patch_artist=True)\n",
        "\n",
        "plt.annotate(f'Q1 = {q1}', xy=(q1, 1.06), xytext=(q1, 1.2), arrowprops=dict(facecolor='black', arrowstyle='->'))\n",
        "plt.annotate(f'Q2 = {q2}', xy=(q2, 1.06), xytext=(q2, 1.3), arrowprops=dict(facecolor='black', arrowstyle='->'))\n",
        "plt.annotate(f'Q3 = {q3}', xy=(q3, 1.06), xytext=(q3, 1.2), arrowprops=dict(facecolor='black', arrowstyle='->'))\n",
        "plt.annotate(f'IQR = {iqr}', xy=((q1+q3)/2, 0.85), ha='center')\n",
        "\n",
        "plt.axvline(q1, linestyle='--', color='gray', label='Q1')\n",
        "plt.axvline(q3, linestyle='--', color='gray', label='Q3')\n",
        "plt.axvspan(q1, q3, alpha=0.2, color='gray', label='IQR')\n",
        "\n",
        "plt.xlabel('Values')\n",
        "plt.title('Boxplot of Duration Sec')\n",
        "\n",
        "plt.show()"
      ]
    },
    {
      "cell_type": "code",
      "execution_count": 60,
      "metadata": {},
      "outputs": [
        {
          "data": {
            "text/plain": [
              "<Axes: >"
            ]
          },
          "execution_count": 60,
          "metadata": {},
          "output_type": "execute_result"
        },
        {
          "data": {
            "image/png": "[encoded data removed]",
            "text/plain": [
              "<Figure size 1000x400 with 2 Axes>"
            ]
          },
          "metadata": {},
          "output_type": "display_data"
        }
      ],
      "source": [
        "fig, ax = plt.subplots(ncols=2,figsize=(10,4))\n",
        "\n",
        "df['duration_sec'].plot(kind='hist',bins=20,ax=ax[0])\n",
        "df['duration_sec'].plot(kind='box',ax=ax[1])"
      ]
    },
    {
      "cell_type": "code",
      "execution_count": 61,
      "metadata": {},
      "outputs": [
        {
          "name": "stdout",
          "output_type": "stream",
          "text": [
            "Average of duration_sec : 554.3820821529745 sec\n",
            "Median of duration_sec : 481.0 sec\n",
            "Mode of duration_sec : 220 sec\n"
          ]
        }
      ],
      "source": [
        "print (f\"Average of duration_sec : {df['duration_sec'].mean()} sec\")\n",
        "print (f\"Median of duration_sec : {df['duration_sec'].median()} sec\")\n",
        "print (f\"Mode of duration_sec : {df['duration_sec'].mode().values[0]} sec\")"
      ]
    },
    {
      "cell_type": "markdown",
      "metadata": {},
      "source": [
        "##### Insight : Data setelah dilakukan penghapusan Outlier\n",
        "Setelah Outlier dihapus, maka dapat diperoleh data yang akurat dengan kesimpulan : \n",
        "Rata-rata peminjaman sepeda adalah selama 554 detik, median 481 detik, dan durasi yang paling sering adalah sebanyak 220 detik\n"
      ]
    },
    {
      "cell_type": "markdown",
      "metadata": {},
      "source": [
        "##### Export to CSV\n"
      ]
    },
    {
      "cell_type": "code",
      "execution_count": 62,
      "metadata": {},
      "outputs": [],
      "source": [
        "df.to_csv('clean_data.csv', index=False)"
      ]
    }
  ],
  "metadata": {
    "colab": {
      "provenance": []
    },
    "kernelspec": {
      "display_name": "Python 3",
      "name": "python3"
    },
    "language_info": {
      "codemirror_mode": {
        "name": "ipython",
        "version": 3
      },
      "file_extension": ".py",
      "mimetype": "text/x-python",
      "name": "python",
      "nbconvert_exporter": "python",
      "pygments_lexer": "ipython3",
      "version": "3.12.4"
    }
  },
  "nbformat": 4,
  "nbformat_minor": 0
}
