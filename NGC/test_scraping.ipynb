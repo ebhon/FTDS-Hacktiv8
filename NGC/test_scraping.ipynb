{
 "cells": [
  {
   "cell_type": "code",
   "execution_count": 5,
   "metadata": {},
   "outputs": [
    {
     "name": "stdout",
     "output_type": "stream",
     "text": [
      "None\n"
     ]
    }
   ],
   "source": [
    "import requests\n",
    "from bs4 import BeautifulSoup\n",
    "\n",
    "page = requests.get(\"https://coinmarketcap.com/?page\")\n",
    "\n",
    "after_bs = BeautifulSoup(page.content, 'html.parser')\n",
    "\n",
    "find_data = after_bs.find(\"div\", {\"class\":\"sc-71024e3e-0 ehyBa-d\"})\n",
    "print(find_data)"
   ]
  },
  {
   "cell_type": "markdown",
   "metadata": {},
   "source": [
    "<div data-sensors-click=\"true\" class=\"sc-4c05d6ef-0 sc-1c5f2868-0 dlQYLv ksLgtQ\"><img class=\"coin-logo\" src=\"https://s2.coinmarketcap.com/static/img/coins/64x64/1.png\" loading=\"lazy\" decoding=\"async\" fetchpriority=\"low\" alt=\"BTC logo\"><div class=\"sc-4c05d6ef-0 sc-1c5f2868-1 dlQYLv gunIRl\"><div class=\"sc-4c05d6ef-0 sc-1c5f2868-2 dlQYLv bszTYj  hide-ranking-number\"><p font-weight=\"semibold\" color=\"text\" font-size=\"1\" data-sensors-click=\"true\" class=\"sc-71024e3e-0 ehyBa-d\">Bitcoin</p><div data-nosnippet=\"true\" class=\"sc-1c5f2868-3 hHWqgz\"><p color=\"text3\" class=\"sc-71024e3e-0 OqPKt coin-item-symbol\" font-size=\"1\" data-sensors-click=\"true\">BTC</p></div></div></div></div>"
   ]
  }
 ],
 "metadata": {
  "kernelspec": {
   "display_name": "base",
   "language": "python",
   "name": "python3"
  },
  "language_info": {
   "codemirror_mode": {
    "name": "ipython",
    "version": 3
   },
   "file_extension": ".py",
   "mimetype": "text/x-python",
   "name": "python",
   "nbconvert_exporter": "python",
   "pygments_lexer": "ipython3",
   "version": "3.12.4"
  }
 },
 "nbformat": 4,
 "nbformat_minor": 2
}
