{
 "cells": [
  {
   "cell_type": "code",
   "execution_count": null,
   "metadata": {},
   "outputs": [],
   "source": [
    "'''\n",
    "=================================================\n",
    "    Live Code 1\n",
    "\n",
    "    Nama  : Handwitanto Abraham\n",
    "    Batch : RMT-036\n",
    "\n",
    "    Program ini dibuat untuk melakukan penghitungan nomimal gaji yang diterima setiap bulannya untuk masing-masing golongan dengan memperhitungkan upah lemburnya, \n",
    "    serta menghitung total pengeluaran yang perlu dikeluarkan oleh perusahaan untuk membayar upah karyawan.\n",
    "=================================================\n",
    "'''"
   ]
  },
  {
   "cell_type": "markdown",
   "metadata": {},
   "source": [
    "1. Membuat program untuk menghitung penghasilan staf berdasarkan jabatan dan jam kerja, kemudian menghitung total gaji yang dikeluarkan oleh perusahaan setiap bulannya"
   ]
  },
  {
   "cell_type": "code",
   "execution_count": 13,
   "metadata": {},
   "outputs": [
    {
     "ename": "ValueError",
     "evalue": "invalid literal for int() with base 10: ''",
     "output_type": "error",
     "traceback": [
      "\u001b[1;31m---------------------------------------------------------------------------\u001b[0m",
      "\u001b[1;31mValueError\u001b[0m                                Traceback (most recent call last)",
      "Cell \u001b[1;32mIn[13], line 70\u001b[0m\n\u001b[0;32m     66\u001b[0m         total \u001b[38;5;241m+\u001b[39m\u001b[38;5;241m=\u001b[39m i\n\u001b[0;32m     67\u001b[0m     \u001b[38;5;28;01mreturn\u001b[39;00m total\n\u001b[1;32m---> 70\u001b[0m jk_manager \u001b[38;5;241m=\u001b[39m \u001b[38;5;28mint\u001b[39m(\u001b[38;5;28minput\u001b[39m(\u001b[38;5;124m\"\u001b[39m\u001b[38;5;124mMasukkan jumlah jam kerja untuk posisi Manager : \u001b[39m\u001b[38;5;124m\"\u001b[39m))\n\u001b[0;32m     71\u001b[0m pengeluaran\u001b[38;5;241m.\u001b[39mappend(hitung_penghasilan2(jk_manager, \u001b[38;5;124m'\u001b[39m\u001b[38;5;124mManager\u001b[39m\u001b[38;5;124m'\u001b[39m))\n\u001b[0;32m     72\u001b[0m jk_staff \u001b[38;5;241m=\u001b[39m \u001b[38;5;28mint\u001b[39m(\u001b[38;5;28minput\u001b[39m(\u001b[38;5;124m\"\u001b[39m\u001b[38;5;124mMasukkan jumlah jam kerja untuk posisi Staff : \u001b[39m\u001b[38;5;124m\"\u001b[39m))\n",
      "\u001b[1;31mValueError\u001b[0m: invalid literal for int() with base 10: ''"
     ]
    }
   ],
   "source": [
    "pengeluaran = []\n",
    "golongan = {\n",
    "    'Manager': 10000000,\n",
    "    'Staff': 5000000,\n",
    "    'Kasir': 4000000\n",
    "}\n",
    "\n",
    "lembur = []\n",
    "upah_lembur = []\n",
    "\n",
    "def hitung_penghasilan2(jam_kerja, posisi):\n",
    "    gapok = golongan[posisi]\n",
    "    jam_lembur = jam_kerja - 40 if jam_kerja - 40 > 0 else 0\n",
    "    penghasilan = gapok + (jam_lembur * 20000)\n",
    "    return penghasilan\n",
    "\n",
    "'''\n",
    "Fungsi ini digunakan untuk menghitung apakah golongan memiliki jam kerja lebih dari 40 jam, jika iya, maka kelebihan jam kerja akan dikalikan 200000 untuk setiap jam nya\n",
    "'''\n",
    "def hitung_lembur():\n",
    "    i=0    \n",
    "    while i in range(len(golongan)):\n",
    "        if jk_manager > 40:\n",
    "            waktu_lembur = jk_manager - 40\n",
    "            upah_lembur = waktu_lembur * 20000\n",
    "            penghasilan.append(gaji + upah_lembur)\n",
    "            i+=1\n",
    "        else: \n",
    "            lembur.append (0)\n",
    "            upah_lembur.append (0)            \n",
    "        if jk_staff > 40:\n",
    "            lembur.append ((jk_staff - 40))\n",
    "            upah_lembur.append (lembur[i] * 20000)\n",
    "            i+=1\n",
    "        else:\n",
    "            lembur.append (0)\n",
    "            upah_lembur.append (0)\n",
    "        if jk_kasir > 40:\n",
    "            lembur.append((jk_kasir - 40))\n",
    "            upah_lembur.append (lembur[i] * 20000)\n",
    "            i+=1\n",
    "        else:\n",
    "            lembur.append (0)\n",
    "            upah_lembur.append (0)\n",
    "        return lembur\n",
    "        \n",
    "'''\n",
    "Fungsi ini digunakan untuk menghitung penghasilan masing-masing golongan setelah mendapatkan nilai dari upah lembur (jika ada)\n",
    "'''\n",
    "gaji = [] \n",
    "def hitung_penghasilan (golongan):\n",
    "    return golongan + upah_lembur    \n",
    "    j=0    \n",
    "    for data in golongan:\n",
    "        gaji.append(golongan[data] + upah_lembur[j] )\n",
    "        j+=1\n",
    "\n",
    "'''\n",
    "Fungsi ini digunakan untuk menghitung dan menampilkan output berupa : \n",
    "Gaji yang diterima di setiap golongan\n",
    "Total pengeluaran untuk upah karyawan yang harus dikeluarkan oleh perusahaan setiap bulannya\n",
    "'''\n",
    "def total_pengeluaran():\n",
    "    total = 0    \n",
    "    for i in pengeluaran:\n",
    "        total += i\n",
    "    return total\n",
    "\n",
    "\n",
    "jk_manager = int(input(\"Masukkan jumlah jam kerja untuk posisi Manager : \"))\n",
    "pengeluaran.append(hitung_penghasilan2(jk_manager, 'Manager'))\n",
    "jk_staff = int(input(\"Masukkan jumlah jam kerja untuk posisi Staff : \"))\n",
    "pengeluaran.append(hitung_penghasilan2(jk_staff, 'Staff'))\n",
    "jk_kasir = int(input(\"Masukkan jumlah jam kerja untuk posisi Kasir : \"))\n",
    "pengeluaran.append(hitung_penghasilan2(jk_kasir, 'Kasir'))\n",
    "\n",
    "print (f\"Total Pengeluaran : Rp {total_pengeluaran()},-\")\n",
    "    \n",
    "\n",
    "\n",
    "\n"
   ]
  },
  {
   "cell_type": "markdown",
   "metadata": {},
   "source": [
    "2. Unittest program di atas"
   ]
  },
  {
   "cell_type": "code",
   "execution_count": 15,
   "metadata": {},
   "outputs": [
    {
     "name": "stderr",
     "output_type": "stream",
     "text": [
      "..\n",
      "----------------------------------------------------------------------\n",
      "Ran 2 tests in 0.002s\n",
      "\n",
      "OK\n"
     ]
    },
    {
     "data": {
      "text/plain": [
       "<unittest.main.TestProgram at 0x29116caeae0>"
      ]
     },
     "execution_count": 15,
     "metadata": {},
     "output_type": "execute_result"
    }
   ],
   "source": [
    "import unittest\n",
    "\n",
    "class TestGaji(unittest.TestCase):\n",
    "    def test_hitung_penghasilan_karyawan1(self):\n",
    "        total = 0\n",
    "        total += hitung_penghasilan2(45, 'Manager')\n",
    "        total += hitung_penghasilan2(35, 'Staff')\n",
    "        total += hitung_penghasilan2(50, 'Kasir')\n",
    "        self.assertEqual(total, 19300000)\n",
    "    \n",
    "    def test_hitung_penghasilan_karyawan2(self):\n",
    "        total = 0\n",
    "        total += hitung_penghasilan2(50, 'Manager')\n",
    "        total += hitung_penghasilan2(50, 'Staff')\n",
    "        total += hitung_penghasilan2(50, 'Kasir')\n",
    "        self.assertEqual(total, 19600000)\n",
    "    \n",
    "\n",
    "unittest.main(argv=[''], exit=False)"
   ]
  }
 ],
 "metadata": {
  "kernelspec": {
   "display_name": "base",
   "language": "python",
   "name": "python3"
  },
  "language_info": {
   "codemirror_mode": {
    "name": "ipython",
    "version": 3
   },
   "file_extension": ".py",
   "mimetype": "text/x-python",
   "name": "python",
   "nbconvert_exporter": "python",
   "pygments_lexer": "ipython3",
   "version": "3.12.4"
  }
 },
 "nbformat": 4,
 "nbformat_minor": 2
}
