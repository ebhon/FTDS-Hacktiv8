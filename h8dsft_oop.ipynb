{
 "cells": [
  {
   "cell_type": "markdown",
   "metadata": {},
   "source": [
    "Create a library catalog system using OOP. The system should allow users to add books to the catalog, search for books by title or author, and remove books from the catalog.\n",
    "\n",
    "Requirements:\n",
    "1.Each book should have a title, author, and unique identifier\n",
    "2.The system should provide the following functionality:\n",
    "    ●Adding a book to the catalog.\n",
    "    ●Searching for books by title or author.\n",
    "    ●Removing a book from the catalog.\n",
    "    ●Displaying all books in the catalog.\n",
    "3.Do the exception handling4\n"
   ]
  },
  {
   "cell_type": "code",
   "execution_count": null,
   "metadata": {},
   "outputs": [],
   "source": [
    "import uuid\n",
    "\n",
    "unique_id = uuid.uuid4()\n",
    "\n",
    "print (unique_id)"
   ]
  },
  {
   "cell_type": "code",
   "execution_count": null,
   "metadata": {},
   "outputs": [],
   "source": [
    "import uuid\n",
    "\n",
    "\n",
    "class KatalogBuku ():\n",
    "    def __init__(self, judul, author, list_buku):\n",
    "        self.judul = judul\n",
    "        self.author = author\n",
    "        self.list_buku = list_buku\n",
    "        \n",
    "    \n",
    "    global unique_id\n",
    "    unique_id = uuid.uuid4().hex\n",
    "    list_buku = []\n",
    "    def tambah_buku(self):\n",
    "        self.judul = input (\"Masukkan Judul Buku : \")\n",
    "        self.judul = self.judul.capitalize()\n",
    "        self.author = input (\"Masukkan Judul Penulis Buku : \")\n",
    "        self.author = self.author.capitalize()\n",
    "        self.list_buku.append([unique_id, self.judul, self.author])\n",
    "        print (f\"Buku dengan judul {self.judul} yang ditulis oleh {self.author} berhasil di tambahkan dengan id {unique_id}\")\n",
    "        \n",
    "\n",
    "    def cari_buku(self):\n",
    "        while True:\n",
    "            try:                \n",
    "                search = input (\"Mencari berdasarkan judul atau author?\")\n",
    "                search = search.capitalize\n",
    "                if search == \"Judul\":\n",
    "                    cari_judul = input(\"Masukkan judul buku yang dicari\")\n",
    "                    cari_judul = cari_judul.capitalize\n",
    "                    for data in range(len(self.list_buku)):\n",
    "                        if cari_judul == self.list_buku[data][1]:\n",
    "                            print (f\"Judul buku : {self.judul[data]}\")\n",
    "                            print (f\"Penulis buku : {self.author[data]}\")\n",
    "                            print (f\"ID : {self.unique_id[data]}\")\n",
    "                        else:\n",
    "                            break\n",
    "                elif search == \"Author\":\n",
    "                    cari_author = input(\"Masukkan judul buku yang dicari\")\n",
    "                    cari_author = cari_author.capitalize\n",
    "                    for data in range(len(self.list_buku)):\n",
    "                        if cari_author == self.list_buku[data][2]:\n",
    "                            print (f\"Judul buku : {self.judul[data]}\")\n",
    "                            print (f\"Penulis buku : {self.author[data]}\")\n",
    "                            print (f\"ID : {self.unique_id[data]}\")\n",
    "                        else:\n",
    "                            break \n",
    "                else:\n",
    "                    print(\"Judul atau Author tidak ditemukan!\")              \n",
    "                    \n",
    "            except ValueError:\n",
    "                print (\"Masukkan pilihan kembali, Judul atau Author\")\n",
    "\n",
    "katalog = KatalogBuku('','',[])\n",
    "katalog.tambah_buku()                    \n",
    "                    \n",
    "                    \n"
   ]
  },
  {
   "cell_type": "code",
   "execution_count": 1,
   "metadata": {},
   "outputs": [],
   "source": [
    "list_buku = []"
   ]
  },
  {
   "cell_type": "code",
   "execution_count": 6,
   "metadata": {},
   "outputs": [
    {
     "name": "stdout",
     "output_type": "stream",
     "text": [
      "3\n"
     ]
    }
   ],
   "source": [
    "a = len(list_buku)\n",
    "print (a)"
   ]
  },
  {
   "cell_type": "code",
   "execution_count": 9,
   "metadata": {},
   "outputs": [
    {
     "name": "stdout",
     "output_type": "stream",
     "text": [
      "cari Harry by Author\n",
      "cari Harry by Author\n",
      "cari Harry by Author\n"
     ]
    }
   ],
   "source": [
    "'''cari buku'''\n",
    "cari = input(\"pilih pencarian : \")\n",
    "cari = cari.capitalize()\n",
    "search = input(\"Masukkan pencariannya : \")\n",
    "search = search.capitalize()\n",
    "i=0\n",
    "if cari == \"Author\" or cari == \"Judul\":\n",
    "    for i in range (a):\n",
    "        if cari == \"Author\":\n",
    "            print (f\"cari {search} by Author\")\n",
    "        elif cari == \"Judul\":\n",
    "            print ((f\"cari {search} by Judul\"))\n",
    "        else:\n",
    "            print (\"pencarian gagal\")\n",
    "    else:\n",
    "        i+=1 \n",
    "else:\n",
    "    print (\"pencarian gagal\")\n",
    "          \n",
    "\n",
    "    \n",
    "\n",
    "\n",
    "\n"
   ]
  },
  {
   "cell_type": "code",
   "execution_count": 5,
   "metadata": {},
   "outputs": [
    {
     "name": "stdout",
     "output_type": "stream",
     "text": [
      "Buku dengan judul 5cm yang ditulis oleh Buku indo berhasil di tambahkan\n",
      "Buku 1. \n",
      "ID Buku : 6c720f197fa94bd6a71321e514db4a2e\n",
      "Judul Buku : Harry potter and the sorcerer stone\n",
      "Penulis Buku : Jk rowling\n",
      "==================================================\n",
      "Buku 2. \n",
      "ID Buku : 305899690d644b8899e2642c8a463f76\n",
      "Judul Buku : Harry potter and the goblet of fire\n",
      "Penulis Buku : Jk rowling\n",
      "==================================================\n",
      "Buku 3. \n",
      "ID Buku : c2f6a5f8bb374c81b8ce92c58e972203\n",
      "Judul Buku : 5cm\n",
      "Penulis Buku : Buku indo\n",
      "==================================================\n"
     ]
    }
   ],
   "source": [
    "'''tambah buku'''\n",
    "import uuid\n",
    "\n",
    "\n",
    "\n",
    "def tambah_buku():\n",
    "    unique_id = uuid.uuid4().hex\n",
    "    judul = input (\"Masukkan Judul Buku : \")\n",
    "    judul = judul.capitalize()\n",
    "    author = input (\"Masukkan Judul Penulis Buku : \")\n",
    "    author = author.capitalize()\n",
    "    list_buku.append([unique_id, judul, author])\n",
    "    print (f\"Buku dengan judul {judul} yang ditulis oleh {author} berhasil di tambahkan\")\n",
    "    i=0\n",
    "    while i in range(len(list_buku)):\n",
    "        print (f\"Buku {i+1}. \")\n",
    "        print (f\"ID Buku : {list_buku[i][0]}\")\n",
    "        print (f\"Judul Buku : {list_buku[i][1]}\")\n",
    "        print (f\"Penulis Buku : {list_buku[i][2]}\")\n",
    "        print (\"=\"*50)\n",
    "        i+=1\n",
    "    \n",
    "    \n",
    "\n",
    "#print (judul)\n",
    "#print (author)\n",
    "#print (unique_id)\n",
    "tambah_buku()\n",
    "\n",
    "\n"
   ]
  },
  {
   "cell_type": "code",
   "execution_count": null,
   "metadata": {},
   "outputs": [],
   "source": [
    "a = 'merdeka'\n",
    "if 'mer' in a:\n",
    "    print (\"True\")\n",
    "else:\n",
    "    print (\"False\")"
   ]
  }
 ],
 "metadata": {
  "kernelspec": {
   "display_name": "base",
   "language": "python",
   "name": "python3"
  },
  "language_info": {
   "codemirror_mode": {
    "name": "ipython",
    "version": 3
   },
   "file_extension": ".py",
   "mimetype": "text/x-python",
   "name": "python",
   "nbconvert_exporter": "python",
   "pygments_lexer": "ipython3",
   "version": "3.12.4"
  }
 },
 "nbformat": 4,
 "nbformat_minor": 2
}
