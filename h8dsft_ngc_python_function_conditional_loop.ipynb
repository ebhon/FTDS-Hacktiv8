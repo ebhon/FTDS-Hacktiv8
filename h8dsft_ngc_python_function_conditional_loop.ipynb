{
 "cells": [
  {
   "cell_type": "markdown",
   "metadata": {},
   "source": [
    "Task #1 - Number of Word\n",
    "Create a function that count the number of word in a sentence.\n",
    "\n",
    "Instruction:\n",
    "1.Create function called `number_of_word`.\n",
    "2.This function takes 1 input, `sentence`.\n",
    "3.Inside this function, you can utilize `.split()` method to split the sentence into list of word(s).\n",
    "4.Also, `len()` function to count the element inside a list.\n",
    "5.Return the number of word from the sentence.\n",
    "\n",
    "Example:\n",
    "-Input: number_of_word(sentence = ’Hello World!’)\n",
    "-Output: 2\n",
    "\n",
    "-Input: number_of_word(sentence = ’Once Upon a Time in a faraway land’)\n",
    "-Output: 84\n"
   ]
  },
  {
   "cell_type": "code",
   "execution_count": null,
   "metadata": {},
   "outputs": [],
   "source": [
    "'''\n",
    "Function ini untuk menghitung jumlah kata yang ada di dalam kalimat\n",
    "'''\n",
    "\n",
    "sentence = input(\"tuliskan kalimat yang akan di hitung : \")\n",
    "\n",
    "def number_of_word(sentence):\n",
    "    word_count = len(sentence.split())\n",
    "    return word_count\n",
    "\n",
    "print (sentence)\n",
    "print (number_of_word(sentence))\n"
   ]
  },
  {
   "cell_type": "markdown",
   "metadata": {},
   "source": [
    "Task #2 - Find Multiple\n",
    "Create a function that will get list of number(s) from a certain range that multiples of given number.\n",
    "\n",
    "Instruction:\n",
    "1.Create function called `find_multiples`.\n",
    "2.This function takes 3 input: `start_range`, `end_range`, and `multiple`.\n",
    "3.From every number within the given range, check if that number is the mutliples of `multiple`.\n",
    "4.Return list of the possible multiple number(s).\n",
    "\n",
    "Example:\n",
    "-Input: find_multiple(start_range= 1, end_range= 20, multiple= 5)\n",
    "-Output: [5, 10, 15, 20]\n",
    "\n",
    "-Input: find_multiple(start_range= 1, end_range= 50, multiple= 10)\n",
    "-Output: [10, 20, 30, 40, 50]5\n"
   ]
  },
  {
   "cell_type": "code",
   "execution_count": null,
   "metadata": {},
   "outputs": [],
   "source": [
    "'''\n",
    "Function ini untuk mencari kelipatan dari \"Multiplier\" selama berada di dalam range awal dan range akhir\n",
    "'''\n",
    "\n",
    "def find_multiples(start_range, end_range, multiplier):\n",
    "    start_range = int(input (\"Start Range : \"))\n",
    "    end_range = int(input (\"End Range : \"))\n",
    "    multiplier = int(input(\"pengali : \"))\n",
    "    i = multiplier\n",
    "    y = start_range\n",
    "    \n",
    "    while y <= end_range:\n",
    "        output = multiplier * y\n",
    "        y += 1\n",
    "        if output <= end_range:\n",
    "            print(output)\n",
    "    \n",
    "find_multiples(start_range, end_range, multiplier)\n",
    "\n"
   ]
  },
  {
   "cell_type": "markdown",
   "metadata": {},
   "source": [
    "Task #3 - Grade Converter\n",
    "\n",
    "Create a function that will convert student’s grade to GPA.\n",
    "Instruction:\n",
    "1.Create function called `Grade_Converter`.\n",
    "2.This function takes input: `convert_to` and n-paired of student(s) name with its respective score.\n",
    "3.Input argument for `convert_to` is either `letter_grade` or `gpa`.\n",
    "4.You can utilize **kwargs input argument to generate n-length paired of student(s) name with its respective score (Dictionary).\n",
    "5.This function will return dictionary of student’s name along with converted Letter Grade or GPA, depending on user input in `convert_to` parameter\n",
    "\n",
    "\n"
   ]
  },
  {
   "cell_type": "code",
   "execution_count": 18,
   "metadata": {},
   "outputs": [
    {
     "name": "stdout",
     "output_type": "stream",
     "text": [
      "1, 62\n",
      "2, 91\n"
     ]
    },
    {
     "ename": "TypeError",
     "evalue": "float() argument must be a string or a real number, not 'dict_values'",
     "output_type": "error",
     "traceback": [
      "\u001b[1;31m---------------------------------------------------------------------------\u001b[0m",
      "\u001b[1;31mTypeError\u001b[0m                                 Traceback (most recent call last)",
      "Cell \u001b[1;32mIn[18], line 36\u001b[0m\n\u001b[0;32m     33\u001b[0m     \u001b[38;5;28;01melse\u001b[39;00m :\n\u001b[0;32m     34\u001b[0m         \u001b[38;5;28mprint\u001b[39m (\u001b[38;5;124m\"\u001b[39m\u001b[38;5;124mMasukkan pilihan gpa atau letter\u001b[39m\u001b[38;5;124m\"\u001b[39m)\n\u001b[1;32m---> 36\u001b[0m grade_converter(convert_to, Adam\u001b[38;5;241m=\u001b[39m\u001b[38;5;241m62\u001b[39m, Faiz\u001b[38;5;241m=\u001b[39m\u001b[38;5;241m91\u001b[39m )\n",
      "Cell \u001b[1;32mIn[18], line 10\u001b[0m, in \u001b[0;36mgrade_converter\u001b[1;34m(convert_to, **nama_siswa)\u001b[0m\n\u001b[0;32m      8\u001b[0m     i  \u001b[38;5;241m+\u001b[39m\u001b[38;5;241m=\u001b[39m \u001b[38;5;241m1\u001b[39m\n\u001b[0;32m      9\u001b[0m     \u001b[38;5;28mprint\u001b[39m(\u001b[38;5;124mf\u001b[39m\u001b[38;5;124m\"\u001b[39m\u001b[38;5;132;01m{\u001b[39;00mi\u001b[38;5;132;01m}\u001b[39;00m\u001b[38;5;124m, \u001b[39m\u001b[38;5;132;01m{\u001b[39;00mnama\u001b[38;5;132;01m}\u001b[39;00m\u001b[38;5;124m\"\u001b[39m)\n\u001b[1;32m---> 10\u001b[0m \u001b[38;5;28;01mif\u001b[39;00m \u001b[38;5;28mfloat\u001b[39m(nama_siswa\u001b[38;5;241m.\u001b[39mvalues()) \u001b[38;5;241m>\u001b[39m\u001b[38;5;241m=\u001b[39m \u001b[38;5;241m85\u001b[39m:\n\u001b[0;32m     11\u001b[0m     letter_grade \u001b[38;5;241m=\u001b[39m \u001b[38;5;124m\"\u001b[39m\u001b[38;5;124mA\u001b[39m\u001b[38;5;124m\"\u001b[39m\n\u001b[0;32m     12\u001b[0m     gpa_scale \u001b[38;5;241m=\u001b[39m \u001b[38;5;241m4\u001b[39m\n",
      "\u001b[1;31mTypeError\u001b[0m: float() argument must be a string or a real number, not 'dict_values'"
     ]
    }
   ],
   "source": [
    "#score = ()\n",
    "#float(score)\n",
    "convert_to = input(\"Convert To : \")\n",
    "\n",
    "def grade_converter(convert_to, **nama_siswa):\n",
    "    i=0\n",
    "    for nama in nama_siswa.values():\n",
    "        i  += 1\n",
    "        print(f\"{i}, {nama}\")\n",
    "    if float(nama_siswa.values()) >= 85:\n",
    "        letter_grade = \"A\"\n",
    "        gpa_scale = 4\n",
    "    elif float(nama_siswa.values()) >= 70 and float(nama_siswa.values()) <= 84.99:\n",
    "        letter_grade = \"B\"\n",
    "        gpa_scale = 3\n",
    "    elif float(nama_siswa.values()) >= 60 and float(nama_siswa.values()) <= 69.99:\n",
    "        letter_grade = \"C\"\n",
    "        gpa_scale = 2.5\n",
    "    elif float(nama_siswa.values()) >= 50 and float(nama_siswa.values()) <= 59.99:\n",
    "        letter_grade = \"D\"\n",
    "        gpa_scale = 2\n",
    "    elif float(nama_siswa.values()) >= 40 and float(nama_siswa.values()) <= 49.99:\n",
    "        letter_grade = \"E\"\n",
    "        gpa_scale = 1.5\n",
    "    else :\n",
    "        letter_grade = \"F\" \n",
    "        gpa_scale = 1\n",
    "\n",
    "    if convert_to == \"gpa\":\n",
    "        print (float(gpa_scale))\n",
    "    elif convert_to == \"letter\":\n",
    "        print (letter_grade)\n",
    "    else :\n",
    "        print (\"Masukkan pilihan gpa atau letter\")\n",
    "\n",
    "grade_converter(convert_to, Adam=62, Faiz=91 )\n",
    "#print (float(score))\n",
    "#print (letter_grade)\n",
    "#print (float(gpa_scale))"
   ]
  }
 ],
 "metadata": {
  "kernelspec": {
   "display_name": "base",
   "language": "python",
   "name": "python3"
  },
  "language_info": {
   "codemirror_mode": {
    "name": "ipython",
    "version": 3
   },
   "file_extension": ".py",
   "mimetype": "text/x-python",
   "name": "python",
   "nbconvert_exporter": "python",
   "pygments_lexer": "ipython3",
   "version": "3.12.4"
  }
 },
 "nbformat": 4,
 "nbformat_minor": 2
}
