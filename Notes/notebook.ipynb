{
 "cells": [
  {
   "cell_type": "markdown",
   "metadata": {},
   "source": [
    "# Mentoring P0 W2"
   ]
  },
  {
   "cell_type": "markdown",
   "metadata": {},
   "source": [
    "## Reminder\n",
    "- Rutin latihan melalui,\n",
    "    - NGC (untuk W2 NGC 5-8)\n",
    "    - Codewars (untuk melatih logic menggunakan python dan SQL)\n",
    "        - https://www.codewars.com\n",
    "    - dsb (tutorial, yutub, etc.)\n",
    "- Ketika ketemu error, biasakan untuk baca `error message` terlebih dahulu.\n",
    "- Jika butuh assist terkait GC atau NGC bisa langsung mention atau DM langsung di discord channel buddy."
   ]
  },
  {
   "cell_type": "markdown",
   "metadata": {},
   "source": [
    "## Untuk NGC 6 dan 7 (BigQuery)"
   ]
  },
  {
   "cell_type": "markdown",
   "metadata": {},
   "source": [
    "- Langkah setup:\n",
    "    1. create new project in console.cloud.google.com\n",
    "    2. copy Project ID -> simpan\n",
    "    3. enable service BigQuery\n",
    "    4. buka google colab -> copy/paste template yang ada di soal\n",
    "    5. langkah 1-3 cukup dilakukan 1x saja, karena nanti untuk challenge BigQuery lainnya tetap bisa menggunakan `project_id` yang sama\n",
    "- hanya bisa dikerjakan via Google Colab\n",
    "- untuk pengumpulannya bisa di download dulu dalam format .ipynb dari Colab, terus kemudian dimasukan ke repository github.\n",
    "- untuk bagian pertama dari NGC 6 bisa liat dokumentasi berikut:\n",
    "    - https://cloud.google.com/bigquery/docs/information-schema-tables#examples\n",
    "    - https://cloud.google.com/bigquery/docs/information-schema-columns#example\n",
    "\n",
    "- metadata & data\n",
    "- meta -> informasi/deskripsi dari sebuah data"
   ]
  },
  {
   "cell_type": "markdown",
   "metadata": {},
   "source": [
    "## Notes untuk GC dan LC"
   ]
  },
  {
   "cell_type": "markdown",
   "metadata": {},
   "source": [
    "# Judul Notebook\n",
    "## Bab 1\n",
    "### Sub-bab 1.1\n",
    "## Bab 2\n",
    "### Sub-bab 2.1\n",
    "### Sub-bab 2.2"
   ]
  },
  {
   "cell_type": "markdown",
   "metadata": {},
   "source": [
    "- Better markdown tips \n",
    "    - https://colab.research.google.com/github/Tanu-N-Prabhu/Python/blob/master/Cheat_sheet_for_Google_Colab.ipynb\n",
    "- GC2:\n",
    "    - dikerjakan di .ipynb\n",
    "    - outline notebook\n",
    "        - perkenalan\n",
    "        - data exploration\n",
    "        - data cleaning\n",
    "        - Normalization\n",
    "        - SQL\n",
    "        - pengujian database\n",
    "    - untuk bab SQL, bisa dikerjakan via pgAdmin kemudian simpan script nya dalam format .sql dan copy/paste juga script tersebut ke dalam cell markdown di bab SQL.\n",
    "- LC2:\n",
    "    - akan menggunakan BigQuery -> via Colab\n",
    "    - Soal meliputi SQL dan Pandas\n",
    "        - ketika soal SQL maka yang dinilai adalah query `select` nya\n",
    "        - ketika soal pandas maka yang dinilai adalah code python + pandas nya\n",
    "- mulai biasakan untuk membuat insight dari setiap hasil yang didapat\n",
    "- biasakan juga untuk membuat kesimpulan di akhir notebook"
   ]
  },
  {
   "cell_type": "markdown",
   "metadata": {},
   "source": [
    "## Bab 1"
   ]
  },
  {
   "cell_type": "code",
   "execution_count": 1,
   "metadata": {},
   "outputs": [
    {
     "name": "stdout",
     "output_type": "stream",
     "text": [
      "hello\n"
     ]
    }
   ],
   "source": [
    "print(\"hello\")"
   ]
  },
  {
   "cell_type": "markdown",
   "metadata": {},
   "source": [
    "kode ini akan berfungsi sebagai blablabla:\n",
    "```py\n",
    "print(\"hello\")\n",
    "```\n",
    "\n",
    "```sql\n",
    "select * from a\n",
    "```"
   ]
  }
 ],
 "metadata": {
  "kernelspec": {
   "display_name": "base",
   "language": "python",
   "name": "python3"
  },
  "language_info": {
   "codemirror_mode": {
    "name": "ipython",
    "version": 3
   },
   "file_extension": ".py",
   "mimetype": "text/x-python",
   "name": "python",
   "nbconvert_exporter": "python",
   "pygments_lexer": "ipython3",
   "version": "3.12.2"
  }
 },
 "nbformat": 4,
 "nbformat_minor": 2
}
