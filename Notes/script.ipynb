{
 "cells": [
  {
   "cell_type": "code",
   "execution_count": 5,
   "metadata": {},
   "outputs": [],
   "source": [
    "from selenium import webdriver"
   ]
  },
  {
   "cell_type": "code",
   "execution_count": 6,
   "metadata": {},
   "outputs": [],
   "source": [
    "driver = webdriver.Chrome()"
   ]
  },
  {
   "cell_type": "code",
   "execution_count": 23,
   "metadata": {},
   "outputs": [
    {
     "name": "stdout",
     "output_type": "stream",
     "text": [
      "<div _ngcontent-web-gramedia-c26=\"\" class=\"list-title\">48 Laws Of Power Versi Ringkas</div>\n",
      "<div _ngcontent-web-gramedia-c26=\"\" class=\"list-title\">KUHP Kitab Undang-Undang Hukum Pidana 2023 : Berdasarkan UU No.1 Tahun 2023</div>\n",
      "<div _ngcontent-web-gramedia-c26=\"\" class=\"list-title\">Komik Next G : Beda Itu Gak Apa-Apa</div>\n"
     ]
    }
   ],
   "source": [
    "from bs4 import BeautifulSoup\n",
    "from selenium import webdriver\n",
    "#membuka browser\n",
    "driver = webdriver.Chrome()\n",
    "\n",
    "#scraping sebanyak halaman\n",
    "\n",
    "for i in range(3):\n",
    "    url=f\"https://www.gramedia.com/categories/buku?page={i+1}\"\n",
    "    #membuka website\n",
    "    driver.get(url)\n",
    "    #memngakses atribute\n",
    "    html = driver.page_source\n",
    "\n",
    "    #membuat object BS4\n",
    "    page = BeautifulSoup(html, \"html.parser\")\n",
    "    #tampilkan data HTML yang di scraping\n",
    "    #print(soup.prettify())\n",
    "\n",
    "    #Method untuk scraping (mencari element)\n",
    "    #.find() -- > menemukan 1 element\n",
    "    #.find_all() -- > menemukan > 1 element > list of element\n",
    "\n",
    "    #parameter find/find_all\n",
    "    #1. nama elemen yang dicari -> string\n",
    "    #2. (optional) atribut dari element yang dicari -> dictionary\n",
    "\n",
    "    #method .get_text() -> mengekstraksi data pada elemen\n",
    "    #<div _ngcontent-web-gramedia-c26=\"\" class=\"list-title\">Solo Leveling 6</div>\n",
    "    result = page.find(\"div\", {\"class\":\"list-title\"})\n",
    "    print(result)"
   ]
  },
  {
   "cell_type": "code",
   "execution_count": 16,
   "metadata": {},
   "outputs": [
    {
     "name": "stdout",
     "output_type": "stream",
     "text": [
      "<div _ngcontent-web-gramedia-c26=\"\" class=\"list-title\">Solo Leveling 6</div>\n",
      "<div _ngcontent-web-gramedia-c26=\"\" class=\"list-title\">Frieren : After the End 02</div>\n",
      "<div _ngcontent-web-gramedia-c26=\"\" class=\"list-title\">Muhammad The Messenger: Periode Mekah</div>\n",
      "<div _ngcontent-web-gramedia-c26=\"\" class=\"list-title\">Haikyu!! - Fly High! volleyball! 14</div>\n",
      "<div _ngcontent-web-gramedia-c26=\"\" class=\"list-title\">Youth X Machinegun Aoharu x Kikanju 09</div>\n",
      "<div _ngcontent-web-gramedia-c26=\"\" class=\"list-title\">Ayo, Belajar Wudhu</div>\n",
      "<div _ngcontent-web-gramedia-c26=\"\" class=\"list-title\">KOLONI 5 Menit Sebelum Tayang Vol. 2</div>\n",
      "<div _ngcontent-web-gramedia-c26=\"\" class=\"list-title\">Ketika Ibu Kami Marah</div>\n",
      "<div _ngcontent-web-gramedia-c26=\"\" class=\"list-title\">Aku Pintar Membaca &amp; Berkarakter Hebat</div>\n",
      "<div _ngcontent-web-gramedia-c26=\"\" class=\"list-title\">Happy Coloring : Untuk Anak 3 Tahun</div>\n",
      "<div _ngcontent-web-gramedia-c26=\"\" class=\"list-title\">Komik Kebiasaan Rasul</div>\n",
      "<div _ngcontent-web-gramedia-c26=\"\" class=\"list-title\">Mega Bank Soal TPA Bappenas &amp; Pascasarjana</div>\n",
      "<div _ngcontent-web-gramedia-c26=\"\" class=\"list-title\">Travel &amp; Talk Javanese : Travel To Central And East Java</div>\n",
      "<div _ngcontent-web-gramedia-c26=\"\" class=\"list-title\">Praktik Pengharmonisasian Produk Hukum Daerah</div>\n",
      "<div _ngcontent-web-gramedia-c26=\"\" class=\"list-title\">Ilmu Dan Pembentukan Peraturan Perundang-Undangan</div>\n",
      "<div _ngcontent-web-gramedia-c26=\"\" class=\"list-title\">Upgrade TOEFL ITP Scores</div>\n",
      "<div _ngcontent-web-gramedia-c26=\"\" class=\"list-title\">Building Islamic Habit</div>\n",
      "<div _ngcontent-web-gramedia-c26=\"\" class=\"list-title\">KUHP Kitab Undang-Undang Hukum Pidana 2023 : Berdasarkan UU No.1 Tahun 2023</div>\n",
      "<div _ngcontent-web-gramedia-c26=\"\" class=\"list-title\">EYD V Panduan Umum Ejaan Bahasa Indonesia Dan Puparagam Bahasa Indonesia</div>\n",
      "<div _ngcontent-web-gramedia-c26=\"\" class=\"list-title\">Hafalan Cepat Rumus-Rumus Matematika SD/MI</div>\n"
     ]
    }
   ],
   "source": [
    "for i in result:\n",
    "    print(i)\n",
    "    #i == element"
   ]
  },
  {
   "cell_type": "code",
   "execution_count": 19,
   "metadata": {},
   "outputs": [
    {
     "name": "stdout",
     "output_type": "stream",
     "text": [
      "Solo Leveling 6\n",
      "Frieren : After the End 02\n",
      "Muhammad The Messenger: Periode Mekah\n",
      "Haikyu!! - Fly High! volleyball! 14\n",
      "Youth X Machinegun Aoharu x Kikanju 09\n",
      "Ayo, Belajar Wudhu\n",
      "KOLONI 5 Menit Sebelum Tayang Vol. 2\n",
      "Ketika Ibu Kami Marah\n",
      "Aku Pintar Membaca & Berkarakter Hebat\n",
      "Happy Coloring : Untuk Anak 3 Tahun\n",
      "Komik Kebiasaan Rasul\n",
      "Mega Bank Soal TPA Bappenas & Pascasarjana\n",
      "Travel & Talk Javanese : Travel To Central And East Java\n",
      "Praktik Pengharmonisasian Produk Hukum Daerah\n",
      "Ilmu Dan Pembentukan Peraturan Perundang-Undangan\n",
      "Upgrade TOEFL ITP Scores\n",
      "Building Islamic Habit\n",
      "KUHP Kitab Undang-Undang Hukum Pidana 2023 : Berdasarkan UU No.1 Tahun 2023\n",
      "EYD V Panduan Umum Ejaan Bahasa Indonesia Dan Puparagam Bahasa Indonesia\n",
      "Hafalan Cepat Rumus-Rumus Matematika SD/MI\n"
     ]
    }
   ],
   "source": [
    "title = []\n",
    "price = []\n",
    "for entity in result:\n",
    "\n",
    "    elementTitle = entity.find('div',{\"class\":\"list-title\"})\n",
    "    if elementTitle == None:\n",
    "        title.append(elementTitle.get_text())\n",
    "    else:\n",
    "        title.append(None)\n",
    "\n",
    "    "
   ]
  },
  {
   "cell_type": "code",
   "execution_count": 20,
   "metadata": {},
   "outputs": [],
   "source": [
    "import pandas as pd\n",
    "\n",
    "df = pd.DataFrame()\n",
    "\n",
    "df['Title'] = title\n"
   ]
  },
  {
   "cell_type": "code",
   "execution_count": 21,
   "metadata": {},
   "outputs": [
    {
     "data": {
      "text/html": [
       "<div>\n",
       "<style scoped>\n",
       "    .dataframe tbody tr th:only-of-type {\n",
       "        vertical-align: middle;\n",
       "    }\n",
       "\n",
       "    .dataframe tbody tr th {\n",
       "        vertical-align: top;\n",
       "    }\n",
       "\n",
       "    .dataframe thead th {\n",
       "        text-align: right;\n",
       "    }\n",
       "</style>\n",
       "<table border=\"1\" class=\"dataframe\">\n",
       "  <thead>\n",
       "    <tr style=\"text-align: right;\">\n",
       "      <th></th>\n",
       "      <th>Title</th>\n",
       "    </tr>\n",
       "  </thead>\n",
       "  <tbody>\n",
       "    <tr>\n",
       "      <th>0</th>\n",
       "      <td>Solo Leveling 6</td>\n",
       "    </tr>\n",
       "    <tr>\n",
       "      <th>1</th>\n",
       "      <td>Frieren : After the End 02</td>\n",
       "    </tr>\n",
       "    <tr>\n",
       "      <th>2</th>\n",
       "      <td>Muhammad The Messenger: Periode Mekah</td>\n",
       "    </tr>\n",
       "    <tr>\n",
       "      <th>3</th>\n",
       "      <td>Haikyu!! - Fly High! volleyball! 14</td>\n",
       "    </tr>\n",
       "    <tr>\n",
       "      <th>4</th>\n",
       "      <td>Youth X Machinegun Aoharu x Kikanju 09</td>\n",
       "    </tr>\n",
       "    <tr>\n",
       "      <th>5</th>\n",
       "      <td>Ayo, Belajar Wudhu</td>\n",
       "    </tr>\n",
       "    <tr>\n",
       "      <th>6</th>\n",
       "      <td>KOLONI 5 Menit Sebelum Tayang Vol. 2</td>\n",
       "    </tr>\n",
       "    <tr>\n",
       "      <th>7</th>\n",
       "      <td>Ketika Ibu Kami Marah</td>\n",
       "    </tr>\n",
       "    <tr>\n",
       "      <th>8</th>\n",
       "      <td>Aku Pintar Membaca &amp; Berkarakter Hebat</td>\n",
       "    </tr>\n",
       "    <tr>\n",
       "      <th>9</th>\n",
       "      <td>Happy Coloring : Untuk Anak 3 Tahun</td>\n",
       "    </tr>\n",
       "    <tr>\n",
       "      <th>10</th>\n",
       "      <td>Komik Kebiasaan Rasul</td>\n",
       "    </tr>\n",
       "    <tr>\n",
       "      <th>11</th>\n",
       "      <td>Mega Bank Soal TPA Bappenas &amp; Pascasarjana</td>\n",
       "    </tr>\n",
       "    <tr>\n",
       "      <th>12</th>\n",
       "      <td>Travel &amp; Talk Javanese : Travel To Central And...</td>\n",
       "    </tr>\n",
       "    <tr>\n",
       "      <th>13</th>\n",
       "      <td>Praktik Pengharmonisasian Produk Hukum Daerah</td>\n",
       "    </tr>\n",
       "    <tr>\n",
       "      <th>14</th>\n",
       "      <td>Ilmu Dan Pembentukan Peraturan Perundang-Undangan</td>\n",
       "    </tr>\n",
       "    <tr>\n",
       "      <th>15</th>\n",
       "      <td>Upgrade TOEFL ITP Scores</td>\n",
       "    </tr>\n",
       "    <tr>\n",
       "      <th>16</th>\n",
       "      <td>Building Islamic Habit</td>\n",
       "    </tr>\n",
       "    <tr>\n",
       "      <th>17</th>\n",
       "      <td>KUHP Kitab Undang-Undang Hukum Pidana 2023 : B...</td>\n",
       "    </tr>\n",
       "    <tr>\n",
       "      <th>18</th>\n",
       "      <td>EYD V Panduan Umum Ejaan Bahasa Indonesia Dan ...</td>\n",
       "    </tr>\n",
       "    <tr>\n",
       "      <th>19</th>\n",
       "      <td>Hafalan Cepat Rumus-Rumus Matematika SD/MI</td>\n",
       "    </tr>\n",
       "  </tbody>\n",
       "</table>\n",
       "</div>"
      ],
      "text/plain": [
       "                                                Title\n",
       "0                                     Solo Leveling 6\n",
       "1                          Frieren : After the End 02\n",
       "2               Muhammad The Messenger: Periode Mekah\n",
       "3                 Haikyu!! - Fly High! volleyball! 14\n",
       "4              Youth X Machinegun Aoharu x Kikanju 09\n",
       "5                                  Ayo, Belajar Wudhu\n",
       "6                KOLONI 5 Menit Sebelum Tayang Vol. 2\n",
       "7                               Ketika Ibu Kami Marah\n",
       "8              Aku Pintar Membaca & Berkarakter Hebat\n",
       "9                 Happy Coloring : Untuk Anak 3 Tahun\n",
       "10                              Komik Kebiasaan Rasul\n",
       "11         Mega Bank Soal TPA Bappenas & Pascasarjana\n",
       "12  Travel & Talk Javanese : Travel To Central And...\n",
       "13      Praktik Pengharmonisasian Produk Hukum Daerah\n",
       "14  Ilmu Dan Pembentukan Peraturan Perundang-Undangan\n",
       "15                           Upgrade TOEFL ITP Scores\n",
       "16                             Building Islamic Habit\n",
       "17  KUHP Kitab Undang-Undang Hukum Pidana 2023 : B...\n",
       "18  EYD V Panduan Umum Ejaan Bahasa Indonesia Dan ...\n",
       "19         Hafalan Cepat Rumus-Rumus Matematika SD/MI"
      ]
     },
     "execution_count": 21,
     "metadata": {},
     "output_type": "execute_result"
    }
   ],
   "source": [
    "df"
   ]
  }
 ],
 "metadata": {
  "kernelspec": {
   "display_name": "base",
   "language": "python",
   "name": "python3"
  },
  "language_info": {
   "codemirror_mode": {
    "name": "ipython",
    "version": 3
   },
   "file_extension": ".py",
   "mimetype": "text/x-python",
   "name": "python",
   "nbconvert_exporter": "python",
   "pygments_lexer": "ipython3",
   "version": "3.12.4"
  }
 },
 "nbformat": 4,
 "nbformat_minor": 2
}
