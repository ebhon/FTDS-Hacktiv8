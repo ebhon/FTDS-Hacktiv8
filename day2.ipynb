{
 "cells": [
  {
   "cell_type": "code",
   "execution_count": 4,
   "metadata": {},
   "outputs": [
    {
     "name": "stdout",
     "output_type": "stream",
     "text": [
      "range(1, 6)\n"
     ]
    }
   ],
   "source": [
    "x = range(1, 6)\n",
    "print(x)"
   ]
  },
  {
   "cell_type": "code",
   "execution_count": 24,
   "metadata": {},
   "outputs": [
    {
     "data": {
      "text/plain": [
       "'hELLO wORLD'"
      ]
     },
     "execution_count": 24,
     "metadata": {},
     "output_type": "execute_result"
    }
   ],
   "source": [
    "# String\n",
    "\"abc12312389\"\n",
    "text = \"Hello World\" \n",
    "\"hello \"+\"world\" #menggabungkan 2 string\n",
    "text * 3 #mengkali string\n",
    "len(text) #menghitung jumlah karakter\n",
    "text.upper() #menjadikan Upper Case\n",
    "text.lower() #menjadikan Lower Case\n",
    "text.swapcase() #swap Lower Menjadi upper case, etc\n"
   ]
  },
  {
   "cell_type": "code",
   "execution_count": 29,
   "metadata": {},
   "outputs": [],
   "source": [
    "# list\n",
    "list = [1, 2, 3, 4, 5, \"sjdhf\"]"
   ]
  },
  {
   "cell_type": "code",
   "execution_count": 31,
   "metadata": {},
   "outputs": [
    {
     "ename": "NameError",
     "evalue": "name 'key1' is not defined",
     "output_type": "error",
     "traceback": [
      "\u001b[1;31m---------------------------------------------------------------------------\u001b[0m",
      "\u001b[1;31mNameError\u001b[0m                                 Traceback (most recent call last)",
      "Cell \u001b[1;32mIn[31], line 8\u001b[0m\n\u001b[0;32m      1\u001b[0m \u001b[38;5;66;03m# mapping\u001b[39;00m\n\u001b[0;32m      2\u001b[0m {\n\u001b[0;32m      3\u001b[0m     \u001b[38;5;66;03m# format -> \"key\": value\u001b[39;00m\n\u001b[0;32m      4\u001b[0m     \u001b[38;5;124m\"\u001b[39m\u001b[38;5;124mkey1\u001b[39m\u001b[38;5;124m\"\u001b[39m: \u001b[38;5;241m1\u001b[39m, \n\u001b[0;32m      5\u001b[0m     \u001b[38;5;124m\"\u001b[39m\u001b[38;5;124mkey2\u001b[39m\u001b[38;5;124m\"\u001b[39m: \u001b[38;5;241m2\u001b[39m, \n\u001b[0;32m      6\u001b[0m     \u001b[38;5;124m\"\u001b[39m\u001b[38;5;124mkey3\u001b[39m\u001b[38;5;124m\"\u001b[39m: \u001b[38;5;241m3\u001b[39m\n\u001b[0;32m      7\u001b[0m }\n\u001b[1;32m----> 8\u001b[0m \u001b[38;5;28mprint\u001b[39m (key1)\n",
      "\u001b[1;31mNameError\u001b[0m: name 'key1' is not defined"
     ]
    }
   ],
   "source": [
    "# mapping\n",
    "{\n",
    "    # format -> \"key\": value\n",
    "    \"key1\": 1, \n",
    "    \"key2\": 2, \n",
    "    \"key3\": 3\n",
    "}"
   ]
  },
  {
   "cell_type": "markdown",
   "metadata": {},
   "source": [
    "\n",
    "\n",
    "# sama\n",
    "'asdakskdhkd'\n",
    "\n",
    "# int\n",
    "1245678\n",
    "\n",
    "# float\n",
    "1238.475783\n",
    "\n",
    "\n",
    "\n",
    "# tuple\n",
    "(1,2,3,4,5, \"abd\", 35)\n",
    "\n",
    "# range\n",
    "range (6)\n",
    "\n",
    "\n",
    "\n",
    "# set\n",
    "\n",
    "# boolean\n",
    "True\n",
    "False\n",
    "\n"
   ]
  },
  {
   "cell_type": "code",
   "execution_count": 8,
   "metadata": {},
   "outputs": [
    {
     "name": "stdout",
     "output_type": "stream",
     "text": [
      "4.2\n",
      "<class 'float'>\n",
      "4.0\n",
      "0.2\n",
      "4000000.0\n",
      "0.0004\n",
      "-40000.0\n"
     ]
    }
   ],
   "source": [
    "print (4.2)\n",
    "print (type(4.2))\n",
    "print (4.)\n",
    "print (.2)\n",
    "print (.4e7)\n",
    "print (.4e-3)\n",
    "print (-.4e5)"
   ]
  },
  {
   "cell_type": "code",
   "execution_count": null,
   "metadata": {},
   "outputs": [],
   "source": [
    "# operator / symbol\n",
    "# assignment (=)\n",
    "# arithmetic (+ / * - ** ^ % // )\n",
    "# comparison (== != > >= < <=)\n",
    "# logical (and or)\n",
    "\n",
    "\n"
   ]
  },
  {
   "cell_type": "code",
   "execution_count": 32,
   "metadata": {},
   "outputs": [
    {
     "data": {
      "text/plain": [
       "True"
      ]
     },
     "execution_count": 32,
     "metadata": {},
     "output_type": "execute_result"
    }
   ],
   "source": [
    "# expression\n",
    "1 == 1"
   ]
  },
  {
   "cell_type": "code",
   "execution_count": 39,
   "metadata": {},
   "outputs": [
    {
     "name": "stdout",
     "output_type": "stream",
     "text": [
      "abcsd\n",
      "2\n"
     ]
    }
   ],
   "source": [
    "#variable\n",
    "listItem = [1, 2, 3, 4, 5,8]\n",
    "tupleItem = (1,2,3,4,5)\n",
    "listItem[3] = \"abcsd\"\n",
    "\n",
    "print(listItem[3])\n",
    "len(listItem)\n",
    "\n",
    "#packing and unpacking\n",
    "(var1, var2, var3, var4, var5) = tupleItem\n",
    "print (var2)"
   ]
  },
  {
   "cell_type": "code",
   "execution_count": 42,
   "metadata": {},
   "outputs": [
    {
     "data": {
      "text/plain": [
       "[2, 3]"
      ]
     },
     "execution_count": 42,
     "metadata": {},
     "output_type": "execute_result"
    }
   ],
   "source": [
    "#slicing\n",
    "listItem[1:3]"
   ]
  },
  {
   "cell_type": "code",
   "execution_count": 47,
   "metadata": {},
   "outputs": [
    {
     "name": "stdout",
     "output_type": "stream",
     "text": [
      "{'nama': 'John Cena', 'umur': 36, 'lokasi': 'Florida', 'status': 'menikah'}\n"
     ]
    }
   ],
   "source": [
    "#dictionary\n",
    "profile = {\n",
    "    \"nama\": \"John Cena\",\n",
    "    \"umur\": 50,\n",
    "    \"lokasi\": \"Florida\"\n",
    "}\n",
    "#mengganti nilai\n",
    "profile[\"umur\"] = 36\n",
    "\n",
    "#menambah key baru\n",
    "profile[\"status\"] = \"menikah\"\n",
    "\n",
    "print(profile)"
   ]
  }
 ],
 "metadata": {
  "kernelspec": {
   "display_name": "base",
   "language": "python",
   "name": "python3"
  },
  "language_info": {
   "codemirror_mode": {
    "name": "ipython",
    "version": 3
   },
   "file_extension": ".py",
   "mimetype": "text/x-python",
   "name": "python",
   "nbconvert_exporter": "python",
   "pygments_lexer": "ipython3",
   "version": "3.12.4"
  }
 },
 "nbformat": 4,
 "nbformat_minor": 2
}
