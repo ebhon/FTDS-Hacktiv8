SELECT segment.segment, SUM(finance.profit) AS total_profit FROM finance
LEFT JOIN segment ON segment.segment_id = finance.segment_id
WHERE NOT finance.discounts = 0
GROUP BY segment.segment;