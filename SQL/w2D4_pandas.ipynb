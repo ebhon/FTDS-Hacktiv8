{
 "cells": [
  {
   "cell_type": "code",
   "execution_count": 1,
   "metadata": {},
   "outputs": [],
   "source": [
    "#import package\n",
    "import pandas as pd #pd sebagai alias"
   ]
  },
  {
   "cell_type": "code",
   "execution_count": 67,
   "metadata": {},
   "outputs": [],
   "source": [
    "#load data\n",
    "df = pd.read_csv('https://raw.githubusercontent.com/FTDS-learning-materials/phase-0/main/src/teams.csv')"
   ]
  },
  {
   "cell_type": "code",
   "execution_count": null,
   "metadata": {},
   "outputs": [],
   "source": [
    "#METHOD & FUNCTIONS PANDAS\n",
    "#menampilkan 5 baris pertama\n",
    "#paramaeter default = 5\n",
    "df.head(10)\n",
    "\n",
    "#menampilkan 5 baris terakhir\n",
    "df.tail()\n",
    "\n",
    "#return value of tuple list\n",
    "df.shape\n",
    "\n",
    "#return summary of dataframe\n",
    "df.info()\n",
    "\n",
    "#return statistics \n",
    "df.describe()\n",
    "\n",
    "#melihat list columns\n",
    "df.columns\n",
    "\n",
    "#melihat list index\n",
    "df.index\n",
    "\n",
    "#melihat tipe data\n",
    "df.dtypes\n",
    "\n",
    "#melihat value nya true atau false, kalau kosong = True\n",
    "df.isnull()\n",
    "\n",
    "#melihat jumlah unique value\n",
    "df.nunique()\n",
    "\n",
    "#melihat frekuensi dari unique value\n",
    "df.value_counts()"
   ]
  },
  {
   "cell_type": "code",
   "execution_count": null,
   "metadata": {},
   "outputs": [],
   "source": [
    "#extract kolom\n",
    "df['conference'].value_counts()"
   ]
  },
  {
   "cell_type": "code",
   "execution_count": 30,
   "metadata": {},
   "outputs": [],
   "source": [
    "#SORTING\n",
    "df.sort_values(by=['id','school_name'])\n",
    "df.sort_values(by='school_name', axis=0)\n",
    "df.sort_values(by='school_name', inplace=True)"
   ]
  },
  {
   "cell_type": "code",
   "execution_count": null,
   "metadata": {},
   "outputs": [],
   "source": [
    "#SLICING = Accessing Columns and Rows\n",
    "#mengakses kolom\n",
    "df[['school_name', 'id']]\n",
    "df.school_name\n",
    "\n",
    "#mengakses rows\n",
    "df.iloc[5:10]\n",
    "\n"
   ]
  },
  {
   "cell_type": "code",
   "execution_count": null,
   "metadata": {},
   "outputs": [],
   "source": [
    "#QUERY/FILTERING\n",
    "'''BOOLEAN INDEXING'''\n",
    "#single condition\n",
    "df[df['conference'] == 'American Athletic' ]\n",
    "\n",
    "#multiple condition\n",
    "df[\n",
    "    (df['conference'] == 'American Athletic') \n",
    "    & #and atau or\n",
    "    (df['school_name'] == 'Houston')\n",
    "]\n",
    "\n",
    "'''QUERY METHOD'''\n",
    "df.query('conference == \"American Athletic\"')\n",
    "df.query('conference == \"American Athletic\" and school_name == \"Houston\"')\n",
    "\n",
    "'''ISIN METHOD'''\n",
    "df[\n",
    "    df['id'].isin([11,12,13,14,15])\n",
    "\n",
    "]\n",
    "\n",
    "'''STRING METHOD'''\n",
    "df[\n",
    "    df['school_name'].str.contains('B')\n",
    "]\n",
    "#ubah ke lowercase dulu, baru di filtering\n",
    "df[\n",
    "    df['school_name'].str.lower().str.contains('b')\n",
    "]\n",
    "\n",
    "'''LOC METHOD'''\n",
    "#menghubah index menjadi string\n",
    "#df.set_index('school_name', inplace=True)\n",
    "\n",
    "df.loc[df.id < 5]"
   ]
  },
  {
   "cell_type": "code",
   "execution_count": null,
   "metadata": {},
   "outputs": [],
   "source": [
    "#Menambah kolom baru\n",
    "#static value = 1\n",
    "df['new_col'] = 1\n",
    "df\n",
    "#dynamic value for new column\n",
    "df['new2'] = df.id * 5\n",
    "df\n",
    "\n",
    "#new column with List for value\n",
    "df['new3'] = [1,2,3] #jumlah index harus sama"
   ]
  },
  {
   "cell_type": "code",
   "execution_count": null,
   "metadata": {},
   "outputs": [],
   "source": [
    "#MENAMBAH ROW BARU\n",
    "\n",
    "\n",
    "df._append({'division': 'One','conference':'Meja Bunda', 'school_name': 'ABC'}, ignore_index=True)"
   ]
  },
  {
   "cell_type": "code",
   "execution_count": null,
   "metadata": {},
   "outputs": [],
   "source": [
    "#MENGHAPUS KOLOM\n",
    "df.drop(columns='new_col', inplace=True)\n"
   ]
  },
  {
   "cell_type": "code",
   "execution_count": null,
   "metadata": {},
   "outputs": [],
   "source": [
    "'''AGGREGATION'''\n",
    "#sum\n",
    "df.sum()\n",
    "\n",
    "#mean\n",
    "df[['id','new2']].mean()\n",
    "\n",
    "#mean\n",
    "df[['id','new2']].median()\n",
    "\n",
    "#mean\n",
    "df[['id','new2']].mod(2)\n",
    "\n",
    "#mean\n",
    "df[['id','new2']].max()\n",
    "\n",
    "df[['id','new2']].agg({'id':'sum', 'new2':'max'})\n"
   ]
  },
  {
   "cell_type": "code",
   "execution_count": null,
   "metadata": {},
   "outputs": [],
   "source": [
    "'''GROUPING'''\n",
    "df.groupby('conference')['id'].mean()\n",
    "\n",
    "df.groupby(['conference')['id'].agg(['mean','sum','count'])"
   ]
  },
  {
   "cell_type": "markdown",
   "metadata": {},
   "source": [
    "MATERI SIANG ------------------------------------------------------------------------------------------------"
   ]
  },
  {
   "cell_type": "code",
   "execution_count": null,
   "metadata": {},
   "outputs": [],
   "source": [
    "Survey\n",
    "1. nama\n",
    "2. jenis kelamin\n",
    "3. pekerjaan\n",
    "4. gaji\n"
   ]
  },
  {
   "cell_type": "code",
   "execution_count": null,
   "metadata": {},
   "outputs": [],
   "source": [
    "import pandas as pd\n",
    "import numpy as np\n",
    "\n",
    "\n",
    "data = {\n",
    "    'Order_ID': [101, 102, 103, 103, 104],\n",
    "    'Customer_Name': ['Alice', 'Bob', 'Charlie', 'Charlie', 'Eve'],\n",
    "    'Product': ['Laptop, mousepad', 'Keyboard', 'Monitor', 'Monitor', 'Mouse'],\n",
    "    'Quantity': ['1,2', 2, 1, 1, 1],\n",
    "    'Price': ['$1000, $20', '$500', '$300', '$300', '$200'],\n",
    "    'Order_date' : ['01-01-2024', '2024-02-20','2024-02-15','2024-01-16','2004-03-30']\n",
    "}\n",
    "\n",
    "df = pd.DataFrame(data)\n",
    "df"
   ]
  },
  {
   "cell_type": "code",
   "execution_count": null,
   "metadata": {},
   "outputs": [],
   "source": [
    "'''check missing value'''\n",
    "df.isnull().sum()\n",
    "#df.info()\n",
    "\n"
   ]
  },
  {
   "cell_type": "code",
   "execution_count": null,
   "metadata": {},
   "outputs": [],
   "source": [
    "'''MENGHAPUS DATA NULL'''\n",
    "#df.dropna()\n",
    "df.drop(columns='Customer_Name')"
   ]
  },
  {
   "cell_type": "code",
   "execution_count": null,
   "metadata": {},
   "outputs": [],
   "source": [
    "'''MENGISI VALUE KOSONG'''\n",
    "df.fillna(1)\n",
    "df['Quantity'].fillna(df['Quantity'].mean())\n",
    "\n",
    "#FILL FORWARD (Mengisi dengan nilai sebelumnya)\n",
    "df['Quantity'].ffill()"
   ]
  },
  {
   "cell_type": "code",
   "execution_count": null,
   "metadata": {},
   "outputs": [],
   "source": [
    "'''HANDLING DUPLICATES'''\n",
    "#cek dulu\n",
    "#df.duplicated().sum()\n",
    "\n",
    "df.drop_duplicates(subset='Quantity')"
   ]
  },
  {
   "cell_type": "code",
   "execution_count": null,
   "metadata": {},
   "outputs": [],
   "source": [
    "'''Membuat data konsisten'''\n",
    "df.Price.str.replace('$','') #tidak punya inplace\n",
    "#df.Price = df.Price.str.replace('$','')"
   ]
  },
  {
   "cell_type": "code",
   "execution_count": 43,
   "metadata": {},
   "outputs": [],
   "source": [
    "'''CONVERT TYPE DATA'''\n",
    "\n",
    "df.Price = df.Price.astype('Int64')"
   ]
  },
  {
   "cell_type": "code",
   "execution_count": null,
   "metadata": {},
   "outputs": [],
   "source": [
    "'''SPLIT VALUE'''\n",
    "\n",
    "df.Product = df.Product.str.split(',')\n"
   ]
  },
  {
   "cell_type": "code",
   "execution_count": null,
   "metadata": {},
   "outputs": [],
   "source": [
    "df.iloc[0].Product[0]"
   ]
  },
  {
   "cell_type": "code",
   "execution_count": 65,
   "metadata": {},
   "outputs": [],
   "source": [
    "'''Menghubah string menjadi datetime'''\n",
    "df['Order_date'] = pd.to_datetime(df['Order_date'], format='mixed') #format kalau data berbeda format\n",
    "#df.info()\n",
    "\n",
    "#df.Order_date.dt.strftime('%m-%Y-%d')"
   ]
  },
  {
   "cell_type": "code",
   "execution_count": 66,
   "metadata": {},
   "outputs": [
    {
     "name": "stdout",
     "output_type": "stream",
     "text": [
      "<class 'pandas.core.frame.DataFrame'>\n",
      "RangeIndex: 5 entries, 0 to 4\n",
      "Data columns (total 6 columns):\n",
      " #   Column         Non-Null Count  Dtype         \n",
      "---  ------         --------------  -----         \n",
      " 0   Order_ID       5 non-null      int64         \n",
      " 1   Customer_Name  5 non-null      object        \n",
      " 2   Product        5 non-null      object        \n",
      " 3   Quantity       5 non-null      object        \n",
      " 4   Price          5 non-null      object        \n",
      " 5   Order_date     5 non-null      datetime64[ns]\n",
      "dtypes: datetime64[ns](1), int64(1), object(4)\n",
      "memory usage: 372.0+ bytes\n"
     ]
    }
   ],
   "source": [
    "df.info()"
   ]
  },
  {
   "cell_type": "code",
   "execution_count": null,
   "metadata": {},
   "outputs": [],
   "source": [
    "df.Order_date"
   ]
  },
  {
   "cell_type": "code",
   "execution_count": null,
   "metadata": {},
   "outputs": [],
   "source": [
    "import pandas as pd\n",
    "import numpy as np\n",
    "\n",
    "#load data\n",
    "df = pd.read_csv('https://raw.githubusercontent.com/FTDS-learning-materials/phase-0/main/src/teams.csv')\n",
    "\n",
    "#cleaning\n",
    "df.drop_duplicates \n",
    "\n",
    "#handle missing value, imputation, dsb\n",
    "\n",
    "#export data\n",
    "df.to_csv('data.csv', index=False)"
   ]
  },
  {
   "cell_type": "code",
   "execution_count": null,
   "metadata": {},
   "outputs": [],
   "source": [
    "#MEMISAHKAN DATA"
   ]
  },
  {
   "cell_type": "code",
   "execution_count": 71,
   "metadata": {},
   "outputs": [
    {
     "data": {
      "text/plain": [
       "0      False\n",
       "1       True\n",
       "2       True\n",
       "3       True\n",
       "4       True\n",
       "       ...  \n",
       "247     True\n",
       "248     True\n",
       "249     True\n",
       "250     True\n",
       "251     True\n",
       "Length: 252, dtype: bool"
      ]
     },
     "execution_count": 71,
     "metadata": {},
     "output_type": "execute_result"
    }
   ],
   "source": [
    "#dataframe untuk table division\n",
    "df_division = pd.DataFrame()\n",
    "df_division['division'] = df['division']\n"
   ]
  },
  {
   "cell_type": "code",
   "execution_count": 72,
   "metadata": {},
   "outputs": [],
   "source": [
    "df_division.drop_duplicates(inplace=True)"
   ]
  },
  {
   "cell_type": "code",
   "execution_count": 1,
   "metadata": {},
   "outputs": [
    {
     "ename": "NameError",
     "evalue": "name 'df_division' is not defined",
     "output_type": "error",
     "traceback": [
      "\u001b[1;31m---------------------------------------------------------------------------\u001b[0m",
      "\u001b[1;31mNameError\u001b[0m                                 Traceback (most recent call last)",
      "Cell \u001b[1;32mIn[1], line 1\u001b[0m\n\u001b[1;32m----> 1\u001b[0m df_division\n",
      "\u001b[1;31mNameError\u001b[0m: name 'df_division' is not defined"
     ]
    }
   ],
   "source": [
    "df_division"
   ]
  }
 ],
 "metadata": {
  "kernelspec": {
   "display_name": "base",
   "language": "python",
   "name": "python3"
  },
  "language_info": {
   "codemirror_mode": {
    "name": "ipython",
    "version": 3
   },
   "file_extension": ".py",
   "mimetype": "text/x-python",
   "name": "python",
   "nbconvert_exporter": "python",
   "pygments_lexer": "ipython3",
   "version": "3.12.4"
  }
 },
 "nbformat": 4,
 "nbformat_minor": 2
}
