{
 "cells": [
  {
   "cell_type": "code",
   "execution_count": null,
   "metadata": {
    "vscode": {
     "languageId": "sql"
    }
   },
   "outputs": [],
   "source": [
    "-- Membuat Database \"p0ngc5\" --\n",
    "CREATE DATABASE p0ngc5;\n",
    "\n",
    "-- Membuat table Customers dengan customer_id sebagai PRIMARY KEY --\n",
    "CREATE TABLE \"Customers\" (\n",
    "\tcustomer_id INTEGER PRIMARY KEY,\n",
    "\tcustomer_name VARCHAR(20),\n",
    "\tcity VARCHAR (20)\n",
    ");\n",
    "\n",
    "-- Membuat table Orders dengan order_id sebagai PRIMARY KEY, dan customer_id sebagai FOREIGN KEY --\n",
    "CREATE TABLE \"Orders\"(\n",
    "\torder_id INTEGER PRIMARY KEY,\n",
    "\tcustomer_id INTEGER REFERENCES \"Customers\" (customer_id),\n",
    "\torder_date DATE,\n",
    "\ttotal_amount FLOAT\n",
    ");\n",
    "\n",
    "-- Memasukkan data kedalam tabel \"Customers\" --\n",
    "INSERT INTO \"Customers\" (customer_id, customer_name, city)\n",
    "\tVALUES\n",
    "\t\t('1', 'John Doe', 'New York'),\n",
    "\t\t('2', 'Jane Smith', 'Los Angeles'),\n",
    "\t\t('3', 'David Johnson', 'Chicago');\n",
    "\n",
    "-- Memasukkan data kedalam tabel \"Orders\" --\n",
    "INSERT INTO \"Orders\" (order_id, customer_id, order_date, total_amount)\n",
    "\tVALUES\n",
    "\t\t(1,1,'2022-01-10', 100.00),\n",
    "\t\t(2,1,'2022-02-15', 150.00),\n",
    "\t\t(3,2,'2022-03-20', 200.00),\n",
    "\t\t(4,3,'2022-04-25', 50.00);\n",
    "\n",
    "-- Query untuk  menampilkan customer_name dengan melihat jumlah duplikat, kemudian menggunakan aggregate function COUNT --\n",
    "-- untuk menghitung jumlah yang duplikat, dan mengganti nama kolomnya menggunakan AS --\n",
    "SELECT \"Customers\".customer_name,  Count(\"Customers\".customer_name) AS total_orders FROM \"Customers\"\n",
    "\tLEFT JOIN \"Orders\"\n",
    "\tON \"Customers\".customer_id = \"Orders\".customer_id\n",
    "\tGROUP BY \"Customers\".customer_name;\n",
    "\t\n"
   ]
  }
 ],
 "metadata": {
  "language_info": {
   "name": "python"
  }
 },
 "nbformat": 4,
 "nbformat_minor": 2
}
