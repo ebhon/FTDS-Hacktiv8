{
 "cells": [
  {
   "cell_type": "markdown",
   "metadata": {},
   "source": [
    "NOMOR 1\n",
    "\n",
    "Buatlah sebuah kondisi untuk mengecek apakah variabel a lebih kecil dari variabel b berdasarkan nilai dibawah ini :\n",
    "\n",
    "a = 100\n",
    "b = 200\n",
    "Jika True maka tulis/cetak a lebih kecil dari b"
   ]
  },
  {
   "cell_type": "code",
   "execution_count": 1,
   "metadata": {},
   "outputs": [
    {
     "name": "stdout",
     "output_type": "stream",
     "text": [
      "a lebih kecil dari b\n"
     ]
    }
   ],
   "source": [
    "a = 100\n",
    "b = 200\n",
    "if a < b:\n",
    "  print('a lebih kecil dari b')"
   ]
  },
  {
   "cell_type": "markdown",
   "metadata": {},
   "source": [
    "NOMOR 2\n",
    "\n",
    "Buatlah sebuah kondisi untuk mengecek apakah variabel a lebih besar dari variabel b berdasarkan nilai dibawah ini :\n",
    "\n",
    "a = 100\n",
    "b = 200\n",
    "Jika True maka tulis/cetak a lebih besar dari b"
   ]
  },
  {
   "cell_type": "code",
   "execution_count": 2,
   "metadata": {},
   "outputs": [
    {
     "name": "stdout",
     "output_type": "stream",
     "text": [
      "a lebih kecil dari b\n"
     ]
    }
   ],
   "source": [
    "a = 100\n",
    "b = 200\n",
    "if a > b:\n",
    "    print (\"a lebih besar dari b\")\n",
    "else:\n",
    "    print (\"a lebih kecil dari b\")"
   ]
  },
  {
   "cell_type": "markdown",
   "metadata": {},
   "source": [
    "NOMOR 3\n",
    "\n",
    "Buatlah sebuah kondisi untuk mengecek apakah variabel a tidak sama dengan variabel b berdasarkan nilai dibawah ini :\n",
    "\n",
    "a = januari\n",
    "b = februari\n",
    "Jika True maka tulis/cetak a tidak sama dengan b\n",
    "\n",
    "Jika False maka tulis/cetak a sama dengan b"
   ]
  },
  {
   "cell_type": "code",
   "execution_count": 4,
   "metadata": {},
   "outputs": [
    {
     "name": "stdout",
     "output_type": "stream",
     "text": [
      "a tidak sama dengan b\n"
     ]
    }
   ],
   "source": [
    "a = \"januari\"\n",
    "b = \"februari\"\n",
    "if a != b:\n",
    "    print (\"a tidak sama dengan b\")\n",
    "else: \n",
    "    print (\"a sama dengan b\")"
   ]
  },
  {
   "cell_type": "markdown",
   "metadata": {},
   "source": [
    "NOMOR 4\n",
    "\n",
    "Buatlah sebuah kondisi untuk mengecek apakah variabel a sama dengan variabel b berdasarkan nilai dibawah ini :\n",
    "\n",
    "a = 1000\n",
    "b = 1000.0\n",
    "Jika True maka jangan menampilkan apapun\n",
    "\n",
    "Jika False maka tulis/cetak a tidak sama dengan b"
   ]
  },
  {
   "cell_type": "code",
   "execution_count": 5,
   "metadata": {},
   "outputs": [
    {
     "name": "stdout",
     "output_type": "stream",
     "text": [
      "\n"
     ]
    }
   ],
   "source": [
    "a = 1000\n",
    "b = 1000.0\n",
    "\n",
    "if a == b:\n",
    "    print (\"\")\n",
    "else: \n",
    "    print (\"a tidak sama dengan b\")"
   ]
  },
  {
   "cell_type": "markdown",
   "metadata": {},
   "source": [
    "NOMOR 5\n",
    "\n",
    "Buatlah sebuah kondisi untuk mengecek apakah variabel a berbeda variabel b berdasarkan nilai dibawah ini :\n",
    "\n",
    "angka_ganjil = [1, 3, 5, 7]\n",
    "angka_genap = [2, 4, 6, 8]\n",
    "Jika True maka tulis/cetak a berbeda dengan b\n",
    "\n",
    "Jika False maka tulis/cetak a sama dengan b"
   ]
  },
  {
   "cell_type": "code",
   "execution_count": 6,
   "metadata": {},
   "outputs": [
    {
     "name": "stdout",
     "output_type": "stream",
     "text": [
      "a tidak sama dengan b\n"
     ]
    }
   ],
   "source": [
    "angka_ganjil = [1, 3, 5, 7]\n",
    "angka_genap = [2, 4, 6, 8]\n",
    "\n",
    "if angka_ganjil != angka_genap:\n",
    "    print (\"a tidak sama dengan b\")\n",
    "else:\n",
    "    print (\"a sama dengan b\")"
   ]
  },
  {
   "cell_type": "markdown",
   "metadata": {},
   "source": [
    "NOMOR 6\n",
    "\n",
    "Buatlah sebuah kondisi untuk mengecek apakah variabel-variabel dibawah ini termasuk salah satu nilai dari variabel lain atau tidak\n",
    "\n",
    "pendidikan = s1 terhadap daftar_pendidikan = ['s1', 's2', 's3']\n",
    "nama = budi terhadap nama_lengkap = budi kurniawan\n",
    "Jika True maka tulis/cetak merupakan bagian\n",
    "\n",
    "Jika False maka tulis/cetak bukan merupakan bagian"
   ]
  },
  {
   "cell_type": "markdown",
   "metadata": {},
   "source": [
    "NOMOR 7\n",
    "\n",
    "Buatlah sebuah kondisi untuk mengecek hubungan dua variabel dibawah ini :\n",
    "\n",
    "a = 100\n",
    "b = 100\n",
    "Jika a < b maka tulis/cetak a lebih kecil dari b\n",
    "\n",
    "Jika a > b maka tulis/cetak a lebih besar dari b\n",
    "\n",
    "Selain kondisi diatas, maka tulis/cetak a sama dengan b"
   ]
  },
  {
   "cell_type": "code",
   "execution_count": 7,
   "metadata": {},
   "outputs": [
    {
     "name": "stdout",
     "output_type": "stream",
     "text": [
      "a sama dengan b\n"
     ]
    }
   ],
   "source": [
    "a = 100\n",
    "b = 100\n",
    "\n",
    "if a < b:\n",
    "    print (\"a lebih kecil dari b\")\n",
    "elif a > b:\n",
    "    print (\"a lebih besar dari b\")\n",
    "else:\n",
    "    print (\"a sama dengan b\")"
   ]
  },
  {
   "cell_type": "markdown",
   "metadata": {},
   "source": [
    "NOMOR 8\n",
    "\n",
    "Buatlah sebuah kondisi untuk memilih menu makanan dengan syarat :\n",
    "\n",
    "Pilih nasi goreng jika uang yang dimiliki lebih dari sama dengan Rp 15.000,-\n",
    "Pilih ketoprak jika uang yang dimiliki lebih dari sama dengan Rp 10.000 dan kurang dari Rp 15.000,-\n",
    "Pilih batagor jika uang yang dimiliki lebih dari sama dengan Rp 5.000 dan kurang Rp 10.000,-\n",
    "Pilih es teh manis jika uang yang dimiliki kurang dari Rp 5000"
   ]
  },
  {
   "cell_type": "code",
   "execution_count": 9,
   "metadata": {},
   "outputs": [
    {
     "name": "stdout",
     "output_type": "stream",
     "text": [
      "beli batagor\n"
     ]
    }
   ],
   "source": [
    "budget = int(input(\"Masukkan budget untuk beli makanan\"))\n",
    "\n",
    "if budget >= 15000:\n",
    "    print (\"beli nasi goreng \")\n",
    "elif budget >= 10000 and budget < 15000:\n",
    "    print (\"beli ketoprak\")\n",
    "elif budget >= 5000 and budget < 10000:\n",
    "    print (\"beli batagor\")\n",
    "else : \n",
    "    print (\"beli es teh manis\")"
   ]
  },
  {
   "cell_type": "markdown",
   "metadata": {},
   "source": [
    "NOMOR 9\n",
    "\n",
    "Buatlah sebuah perulangan untuk mencetak/menulis kata hello sebanyak 5 kali."
   ]
  },
  {
   "cell_type": "code",
   "execution_count": 10,
   "metadata": {},
   "outputs": [
    {
     "name": "stdout",
     "output_type": "stream",
     "text": [
      "Hello Hello Hello Hello Hello \n"
     ]
    }
   ],
   "source": [
    "print (\"Hello \" * 5)"
   ]
  },
  {
   "cell_type": "markdown",
   "metadata": {},
   "source": [
    "NOMOR 10\n",
    "\n",
    "Buatlah sebuah perulangan untuk menampilkan angka dari 0 - 5\n",
    "\n",
    "Hasil : 0, 1, 2, 3, 4, 5"
   ]
  },
  {
   "cell_type": "code",
   "execution_count": 12,
   "metadata": {},
   "outputs": [
    {
     "name": "stdout",
     "output_type": "stream",
     "text": [
      "0\n",
      "1\n",
      "2\n",
      "3\n",
      "4\n",
      "5\n"
     ]
    }
   ],
   "source": [
    "i = 0\n",
    "for i in range(6):\n",
    "    print (i)\n",
    "    i += 1"
   ]
  },
  {
   "cell_type": "markdown",
   "metadata": {},
   "source": [
    "NOMOR 11\n",
    "\n",
    "Buatlah sebuah perulangan untuk menampilkan angka dari 3 - 5\n",
    "\n",
    "Hasil : 3, 4, 5"
   ]
  },
  {
   "cell_type": "code",
   "execution_count": 13,
   "metadata": {},
   "outputs": [
    {
     "name": "stdout",
     "output_type": "stream",
     "text": [
      "3\n",
      "4\n",
      "5\n"
     ]
    }
   ],
   "source": [
    "i = 0\n",
    "for i in range(3, 6):\n",
    "    print (i)\n",
    "    i += 1"
   ]
  },
  {
   "cell_type": "markdown",
   "metadata": {},
   "source": [
    "NOMOR 12\n",
    "\n",
    "Buatlah sebuah perulangan untuk menampilkan angka dari 1 - 10 dengan jarak angka adalah 3\n",
    "\n",
    "Hasil : 1, 4, 7, 10"
   ]
  },
  {
   "cell_type": "code",
   "execution_count": 5,
   "metadata": {},
   "outputs": [
    {
     "name": "stdout",
     "output_type": "stream",
     "text": [
      "1\n",
      "5\n",
      "6\n",
      "7\n",
      "8\n",
      "9\n",
      "10\n",
      "11\n",
      "12\n",
      "13\n"
     ]
    }
   ],
   "source": [
    "i = 1\n",
    "while i < 11:\n",
    "    "
   ]
  },
  {
   "cell_type": "markdown",
   "metadata": {},
   "source": [
    "NOMOR 13\n",
    "\n",
    "Buatlah sebuah perulangan untuk menampilkan angka dari 1 - 10 dan berhenti dengan kondisi jika angka tersebut adalah 8\n",
    "\n",
    "Hasil : 1, 2, 3, 4, 5, 6, 7, 8"
   ]
  },
  {
   "cell_type": "markdown",
   "metadata": {},
   "source": [
    "NOMOR 14\n",
    "\n",
    "Buatlah sebuah perulangan untuk menampilkan angka genap dari 1 - 10 dan angka tersebut kurang dari sama dengan 6\n",
    "\n",
    "Hasil : 2, 4, 6"
   ]
  },
  {
   "cell_type": "markdown",
   "metadata": {},
   "source": [
    "NOMOR 15\n",
    "\n",
    "Buatlah sebuah perulangan untuk menampilkan isi dari variabel list dibawah ini :\n",
    "\n",
    "daftar_nama = ['anwar', 'budi', 'cecep', 'deny']"
   ]
  }
 ],
 "metadata": {
  "kernelspec": {
   "display_name": "base",
   "language": "python",
   "name": "python3"
  },
  "language_info": {
   "codemirror_mode": {
    "name": "ipython",
    "version": 3
   },
   "file_extension": ".py",
   "mimetype": "text/x-python",
   "name": "python",
   "nbconvert_exporter": "python",
   "pygments_lexer": "ipython3",
   "version": "3.12.4"
  }
 },
 "nbformat": 4,
 "nbformat_minor": 2
}
