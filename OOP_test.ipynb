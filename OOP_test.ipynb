{
 "cells": [
  {
   "cell_type": "code",
   "execution_count": null,
   "metadata": {},
   "outputs": [],
   "source": [
    "#InventoryApp -> Program -> object\n",
    "#Fitur : \n",
    "#1. addItem\n",
    "#2. showItem\n",
    "\n",
    "#class -> object\n",
    "class BotolMinum:\n",
    "    #tinggi: 20cm\n",
    "    # __init__\n",
    "\n",
    "    def __init_(self): #define karakteristik/atribut\n",
    "        self.tinggi = 20\n",
    "\n",
    "#membuat object / memanggil class\n",
    "print(BotolMinum().tinggi)"
   ]
  }
 ],
 "metadata": {
  "language_info": {
   "name": "python"
  }
 },
 "nbformat": 4,
 "nbformat_minor": 2
}
