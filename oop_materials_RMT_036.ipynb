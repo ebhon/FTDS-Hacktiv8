{
  "cells": [
    {
      "cell_type": "code",
      "execution_count": null,
      "metadata": {
        "id": "QYtH5lt_FWHc"
      },
      "outputs": [],
      "source": [
        "def eat():\n",
        "  abc = '123'\n",
        "  rambut = 'pink'\n",
        "  print('makan')"
      ]
    },
    {
      "cell_type": "code",
      "execution_count": null,
      "metadata": {
        "id": "s1cN-nIlF2xu"
      },
      "outputs": [],
      "source": [
        "cbd = '456'"
      ]
    },
    {
      "cell_type": "code",
      "execution_count": null,
      "metadata": {
        "colab": {
          "base_uri": "https://localhost:8080/",
          "height": 141
        },
        "id": "gPSxx8A_F5eX",
        "outputId": "2733ca5f-4446-4928-d3b2-3c607d06fa9b"
      },
      "outputs": [
        {
          "ename": "NameError",
          "evalue": "name 'rambut' is not defined",
          "output_type": "error",
          "traceback": [
            "\u001b[0;31m---------------------------------------------------------------------------\u001b[0m",
            "\u001b[0;31mNameError\u001b[0m                                 Traceback (most recent call last)",
            "\u001b[0;32m<ipython-input-5-b80e3291b3c4>\u001b[0m in \u001b[0;36m<cell line: 1>\u001b[0;34m()\u001b[0m\n\u001b[0;32m----> 1\u001b[0;31m \u001b[0mrambut\u001b[0m\u001b[0;34m\u001b[0m\u001b[0;34m\u001b[0m\u001b[0m\n\u001b[0m",
            "\u001b[0;31mNameError\u001b[0m: name 'rambut' is not defined"
          ]
        }
      ],
      "source": [
        "rambut"
      ]
    },
    {
      "cell_type": "code",
      "execution_count": null,
      "metadata": {
        "id": "bIVGMt6pFeFs"
      },
      "outputs": [],
      "source": [
        "hair = 'hitam'\n",
        "clothes = 'skena'\n",
        "skin = 'coklat'"
      ]
    },
    {
      "cell_type": "code",
      "execution_count": 9,
      "metadata": {
        "id": "VThtk2pUFn5x"
      },
      "outputs": [],
      "source": [
        "class Human:\n",
        "    def __init__(self): #hanya dibuat, belum disimpan\n",
        "        self.rambut = 'hitam'\n",
        "        self.baju = 'skena'\n",
        "        self.kulit = 'coklat'\n",
        "\n",
        "    def eat(self):\n",
        "        print('orang ini sudah makan')\n",
        "\n",
        "    def run(self):\n",
        "        print(f'orang berambut {self.rambut} lari')"
      ]
    },
    {
      "cell_type": "code",
      "execution_count": 10,
      "metadata": {},
      "outputs": [
        {
          "name": "stdout",
          "output_type": "stream",
          "text": [
            "orang ini sudah makan\n",
            "orang berambut hitam lari\n"
          ]
        }
      ],
      "source": [
        "dyco = Human()\n",
        "dyco.eat()\n",
        "dyco.run()"
      ]
    },
    {
      "cell_type": "code",
      "execution_count": 4,
      "metadata": {},
      "outputs": [
        {
          "data": {
            "text/plain": [
              "'hitam'"
            ]
          },
          "execution_count": 4,
          "metadata": {},
          "output_type": "execute_result"
        }
      ],
      "source": [
        "dyco.rambut"
      ]
    },
    {
      "cell_type": "markdown",
      "metadata": {
        "id": "lNLnNjoQ6n20"
      },
      "source": [
        "# OOP (Object-Oriented Programming)\n",
        "OOP: paradigma pemrograman yang berbasis objek.\n",
        "Objek memiliki:\n",
        "- atribut (data)\n",
        "- perilaku/metode (fungsi)"
      ]
    },
    {
      "cell_type": "markdown",
      "metadata": {
        "id": "y_2rrREp6n22"
      },
      "source": [
        "## Case\n",
        "Sistem perpustakaan -> menyimpan buku\n",
        "\n",
        "**Sebelum** membuat object, kita perlu **class(blueprint/rencana)**\n",
        "\n",
        "## Class\n",
        "Class memiliki:\n",
        "- atribut -> nama, penulis, warna, jumlah halaman, ukuran kertas\n",
        "\n",
        "Misal: Buku -> \"Harry Potter\", \"J.K. Rowling\", \"Hijau\", 200, \"A5\"\n",
        "\n",
        "- behaviour-> dibuka, dibaca, ditutup, dipinjam, dsb"
      ]
    },
    {
      "cell_type": "markdown",
      "metadata": {
        "id": "ITaJahch6n22"
      },
      "source": [
        "### Bikin `class` untuk Buku-buku"
      ]
    },
    {
      "cell_type": "code",
      "execution_count": 12,
      "metadata": {
        "id": "x-NZD3DP6n23"
      },
      "outputs": [
        {
          "data": {
            "text/plain": [
              "'A5'"
            ]
          },
          "execution_count": 12,
          "metadata": {},
          "output_type": "execute_result"
        }
      ],
      "source": [
        "# Bikin yang statis dulu\n",
        "\n",
        "class Book():\n",
        "    #buat attribut\n",
        "    def __init__(self):\n",
        "        self.title = \"Harry Potter\"\n",
        "        self.author = \"J.K Rowling\"\n",
        "        self.bookcolor = \"Black\"\n",
        "        self.page = 500\n",
        "        self.size = \"A5\"\n",
        "    \n",
        "    #buat behaviour\n",
        "    def open_book(self):\n",
        "        print (f\"Buku {self.title} sudah dibuka\")\n",
        "\n",
        "buku_1 = Book()\n",
        "buku_1.size"
      ]
    },
    {
      "cell_type": "code",
      "execution_count": 31,
      "metadata": {
        "id": "H6TUGvM56n23"
      },
      "outputs": [],
      "source": [
        "# Sekarang bikin yang dinamis\n",
        "class Book():\n",
        "    #buat attribut\n",
        "    def __init__(self, judul, penulis, warna, halaman, ukuran, harga):\n",
        "        self.title = judul\n",
        "        self.author = penulis\n",
        "        self.bookcolor = warna \n",
        "        self.page = halaman\n",
        "        self.size = ukuran\n",
        "        self.price = harga\n",
        "    \n",
        "    #buat behaviour\n",
        "    def open_book(self):\n",
        "        print (f\"Buku {self.title} sudah dibuka\")\n",
        "\n",
        "    def diskon_buku(self, jumlah):\n",
        "        print (f'Harga buku berubah menjadi {self.price - jumlah}')\n",
        "\n",
        "    def __str__(self):\n",
        "        return f'Ini adalah class yang berisi buku dengan judul {self.title}, ditulis oleh {self.author}'\n",
        "        "
      ]
    },
    {
      "cell_type": "code",
      "execution_count": 32,
      "metadata": {},
      "outputs": [
        {
          "name": "stdout",
          "output_type": "stream",
          "text": [
            "Harga buku berubah menjadi 40000\n",
            "Ini adalah class yang berisi buku dengan judul Harry Potter, ditulis oleh J.K Rowling\n"
          ]
        }
      ],
      "source": [
        "def dskn(jmlh):\n",
        "    print(jmlh)\n",
        "buku_2 = Book('Harry Potter', 'J.K Rowling', 'Black', 350, 'A5', 50000)\n",
        "\n",
        "buku_2.diskon_buku(10000)\n",
        "print (buku_2)"
      ]
    },
    {
      "cell_type": "markdown",
      "metadata": {
        "id": "Bzndwwjh6n24"
      },
      "source": [
        "### Kenalan dengan metode `append()`"
      ]
    },
    {
      "cell_type": "code",
      "execution_count": 33,
      "metadata": {
        "id": "HLp7Dz416n24"
      },
      "outputs": [],
      "source": [
        "books = []\n",
        "\n",
        "book1 = 'Buku naruto yang ditulis oleh Masaqhi Kishimoto'\n",
        "book2 = 'Buku HP yang ditulis oleh J.K. Worling'\n",
        "\n"
      ]
    },
    {
      "cell_type": "code",
      "execution_count": 38,
      "metadata": {},
      "outputs": [
        {
          "data": {
            "text/plain": [
              "['Buku naruto yang ditulis oleh Masaqhi Kishimoto',\n",
              " 'Buku HP yang ditulis oleh J.K. Worling']"
            ]
          },
          "execution_count": 38,
          "metadata": {},
          "output_type": "execute_result"
        }
      ],
      "source": [
        "books"
      ]
    },
    {
      "cell_type": "code",
      "execution_count": 37,
      "metadata": {},
      "outputs": [],
      "source": [
        "books.append(book2)"
      ]
    },
    {
      "cell_type": "markdown",
      "metadata": {
        "id": "xmO_7dZ66n24"
      },
      "source": [
        "### Bikin `class` untuk Perpustakaan"
      ]
    },
    {
      "cell_type": "code",
      "execution_count": 57,
      "metadata": {
        "id": "zggNlEh86n24"
      },
      "outputs": [],
      "source": [
        "class Library():\n",
        "    def __init__(self):\n",
        "        self.books = []\n",
        "\n",
        "    def add_book(self, buku):\n",
        "        self.books.append(buku)\n",
        "        print(f\"buku {buku} berhasil dimasukkan kedalam library\")\n",
        "\n",
        "    def list_book(self):\n",
        "        for book in self.books:\n",
        "            print(book.title)"
      ]
    },
    {
      "cell_type": "code",
      "execution_count": 46,
      "metadata": {
        "id": "jwrWmq0n6n24"
      },
      "outputs": [],
      "source": [
        "# daftar semua buku yang udah ditambahin ke perpus\n",
        "perpus = Library()"
      ]
    },
    {
      "cell_type": "code",
      "execution_count": 47,
      "metadata": {},
      "outputs": [
        {
          "name": "stdout",
          "output_type": "stream",
          "text": [
            "buku Buku naruto yang ditulis oleh Masaqhi Kishimoto berhasil dimasukkan kedalam library\n"
          ]
        }
      ],
      "source": [
        "perpus.books\n",
        "perpus.add_book('Buku naruto yang ditulis oleh Masaqhi Kishimoto')   "
      ]
    },
    {
      "cell_type": "code",
      "execution_count": 48,
      "metadata": {},
      "outputs": [],
      "source": [
        "daftar_buku = 'one_piece', 'naruto','bleach'"
      ]
    },
    {
      "cell_type": "code",
      "execution_count": 49,
      "metadata": {},
      "outputs": [
        {
          "name": "stdout",
          "output_type": "stream",
          "text": [
            "buku one_piece berhasil dimasukkan kedalam library\n",
            "buku naruto berhasil dimasukkan kedalam library\n",
            "buku bleach berhasil dimasukkan kedalam library\n"
          ]
        }
      ],
      "source": [
        "for buku in daftar_buku:\n",
        "    perpus.add_book(buku)"
      ]
    },
    {
      "cell_type": "code",
      "execution_count": 58,
      "metadata": {},
      "outputs": [],
      "source": [
        "buku_1 = Book('Harry Potter', 'J.K Rowling', 'Black', 350, 'A5', 50000)\n",
        "buku_2 = Book('naruto', 'Masashi Kishimoto', 'Putih', None, 'A5', 25000)"
      ]
    },
    {
      "cell_type": "code",
      "execution_count": 59,
      "metadata": {},
      "outputs": [
        {
          "name": "stdout",
          "output_type": "stream",
          "text": [
            "buku Ini adalah class yang berisi buku dengan judul Harry Potter, ditulis oleh J.K Rowling berhasil dimasukkan kedalam library\n",
            "buku Ini adalah class yang berisi buku dengan judul naruto, ditulis oleh Masashi Kishimoto berhasil dimasukkan kedalam library\n"
          ]
        },
        {
          "ename": "AttributeError",
          "evalue": "'Library' object has no attribute 'list_book'",
          "output_type": "error",
          "traceback": [
            "\u001b[1;31m---------------------------------------------------------------------------\u001b[0m",
            "\u001b[1;31mAttributeError\u001b[0m                            Traceback (most recent call last)",
            "Cell \u001b[1;32mIn[59], line 4\u001b[0m\n\u001b[0;32m      1\u001b[0m perpus\u001b[38;5;241m.\u001b[39madd_book(buku_1)\n\u001b[0;32m      2\u001b[0m perpus\u001b[38;5;241m.\u001b[39madd_book(buku_2)\n\u001b[1;32m----> 4\u001b[0m perpus\u001b[38;5;241m.\u001b[39mlist_book()\n",
            "\u001b[1;31mAttributeError\u001b[0m: 'Library' object has no attribute 'list_book'"
          ]
        }
      ],
      "source": [
        "perpus.add_book(buku_1)\n",
        "perpus.add_book(buku_2)\n",
        "\n",
        "perpus.list_book()"
      ]
    },
    {
      "cell_type": "markdown",
      "metadata": {
        "id": "say6jNYM6n25"
      },
      "source": [
        "## Encapsulation\n",
        "-> atribut & behaviour dikumpulin dalam 1 kapsul/unit class\n",
        "\n",
        "-> menyembunyikan detail internal object, hanya mengekspos yang diperlukan\n",
        "\n",
        "-> \"private\" attribute & behaviour pakai awalan `__`, yang \"private\" tidak bisa diakses di luar class\n",
        "\n",
        "atribut:\n",
        "- publik\n",
        "- privat: `__<nama_atribut>`"
      ]
    },
    {
      "cell_type": "code",
      "execution_count": null,
      "metadata": {
        "id": "nAgbGjEf6n25"
      },
      "outputs": [],
      "source": []
    },
    {
      "cell_type": "markdown",
      "metadata": {
        "id": "czAJqkdg6n25"
      },
      "source": [
        "## Inheritance\n",
        "-> menurunkan sifat ke keturunan (suatu class bisa mewarisi atribut & behaviour class lain)"
      ]
    },
    {
      "cell_type": "code",
      "execution_count": null,
      "metadata": {
        "id": "WTNzbzUR6n25"
      },
      "outputs": [],
      "source": []
    },
    {
      "cell_type": "markdown",
      "metadata": {
        "id": "lSLYO1Lv6n25"
      },
      "source": [
        "### Inheritance Grandparents-Parents-Child Class"
      ]
    },
    {
      "cell_type": "code",
      "execution_count": null,
      "metadata": {
        "id": "yiBEE75f6n25"
      },
      "outputs": [],
      "source": []
    },
    {
      "cell_type": "markdown",
      "metadata": {
        "id": "BGSUtzBl6n25"
      },
      "source": [
        "### Contoh lain"
      ]
    },
    {
      "cell_type": "code",
      "execution_count": null,
      "metadata": {
        "id": "Wu4k2S4A6n25"
      },
      "outputs": [],
      "source": []
    },
    {
      "cell_type": "code",
      "execution_count": null,
      "metadata": {
        "id": "0Ucb8_0B6n25"
      },
      "outputs": [],
      "source": []
    },
    {
      "cell_type": "code",
      "execution_count": null,
      "metadata": {
        "id": "vBrWF7gq6n25"
      },
      "outputs": [],
      "source": []
    },
    {
      "cell_type": "markdown",
      "metadata": {
        "id": "UvOfaqgC6n26"
      },
      "source": [
        "## Polymorphism\n",
        "\n",
        "- memungkinkan objek dari class yang beda untuk diperlakukan seolah-olah mereka adalah objek dari class yang sama.\n",
        "\n",
        "- class anak bisa menentukan \"kekuatannya\" sendiri/pada function yang sama isi bisa berbeda (overriding).\n",
        "\n",
        "- ada konsep overriding"
      ]
    },
    {
      "cell_type": "code",
      "execution_count": null,
      "metadata": {
        "id": "qPsVlSSp6n26"
      },
      "outputs": [],
      "source": []
    },
    {
      "cell_type": "markdown",
      "metadata": {
        "id": "3VdddSRB6n26"
      },
      "source": [
        "### Beda Inheritance & Polymorphism\n",
        "- Inheritance: mengubah atribut.\n",
        "- Polymorphism: yang di-highlight mengubah behaviour."
      ]
    }
  ],
  "metadata": {
    "colab": {
      "provenance": []
    },
    "kernelspec": {
      "display_name": "base",
      "language": "python",
      "name": "python3"
    },
    "language_info": {
      "codemirror_mode": {
        "name": "ipython",
        "version": 3
      },
      "file_extension": ".py",
      "mimetype": "text/x-python",
      "name": "python",
      "nbconvert_exporter": "python",
      "pygments_lexer": "ipython3",
      "version": "3.12.4"
    }
  },
  "nbformat": 4,
  "nbformat_minor": 0
}
